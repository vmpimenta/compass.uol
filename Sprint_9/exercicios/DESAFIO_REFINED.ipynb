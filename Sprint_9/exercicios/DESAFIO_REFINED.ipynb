{
 "cells": [
  {
   "cell_type": "code",
   "execution_count": 1,
   "id": "bb9e88c7",
   "metadata": {},
   "outputs": [],
   "source": [
    "import pandas as pd\n",
    "import findspark \n",
    "findspark.init()\n",
    "import pyspark\n",
    "from pyspark.sql import SparkSession\n",
    "spark = SparkSession.builder.appName(\"Exemplo2\").getOrCreate()\n",
    "from pyspark.sql.functions import *\n",
    "from pyspark.sql import functions as Func"
   ]
  },
  {
   "cell_type": "markdown",
   "id": "95b43a00",
   "metadata": {},
   "source": [
    "Essa foi minha pesca feita localmente aqui no jupyter para depois levar pro AWS Glue.\n",
    "\n",
    "Primeiro li o arquivo da trusted já em parquet, e coloquei em um dataframe spark."
   ]
  },
  {
   "cell_type": "code",
   "execution_count": 2,
   "id": "a10f7037",
   "metadata": {},
   "outputs": [],
   "source": [
    "df_spark = spark.read.format(\"parquet\").load(\"completo.parquet\")\n",
    "#criando um dataframe spark com o arquivo parquet da trusted."
   ]
  },
  {
   "cell_type": "code",
   "execution_count": 3,
   "id": "37734021",
   "metadata": {},
   "outputs": [],
   "source": [
    "df_spark = df_spark.select('Id','Titulo','Popularidade','Lancamento','Nota','Votos','Orçamento','Receita','Duração')\n",
    "\n",
    "# selecionando apenas os dados que pretendo usar."
   ]
  },
  {
   "cell_type": "code",
   "execution_count": null,
   "id": "522f6d85",
   "metadata": {},
   "outputs": [],
   "source": []
  },
  {
   "cell_type": "code",
   "execution_count": 4,
   "id": "faa0fa38",
   "metadata": {},
   "outputs": [],
   "source": [
    "df_spark = df_spark.select(\"*\").where(Func.col(\"Lancamento\").between(\"2008-01-01\", \"2023-12-31\")).orderBy(Func.col(\"Lancamento\"))\n",
    "\n",
    "# Aqui foi feito um novo filtro nesses dados. organizando os filmes no periodo que foi escolhido. (As 4 fases marvel)"
   ]
  },
  {
   "cell_type": "code",
   "execution_count": null,
   "id": "25615587",
   "metadata": {},
   "outputs": [],
   "source": []
  },
  {
   "cell_type": "code",
   "execution_count": 5,
   "id": "efea37fb",
   "metadata": {},
   "outputs": [],
   "source": [
    "df_spark = df_spark.select(\"*\").where(Func.col(\"Receita\" and \"Orçamento\") != 0)\n",
    "\n",
    "# Esse filtro tira os filmes da fase 4 que ainda não foram lançados ou que estão em cartaz. sem dados suficientes para analisar."
   ]
  },
  {
   "cell_type": "code",
   "execution_count": null,
   "id": "40d03d18",
   "metadata": {},
   "outputs": [],
   "source": []
  },
  {
   "cell_type": "code",
   "execution_count": 6,
   "id": "88a769af",
   "metadata": {},
   "outputs": [],
   "source": [
    "df_spark = df_spark.select(\"*\").where(Func.col(\"Votos\") > 2000)\n",
    "\n",
    "# Mais um filtro que limita a quantidade de votos mínimos;"
   ]
  },
  {
   "cell_type": "code",
   "execution_count": null,
   "id": "cb38c925",
   "metadata": {},
   "outputs": [],
   "source": []
  },
  {
   "cell_type": "code",
   "execution_count": 7,
   "id": "e8483d98",
   "metadata": {},
   "outputs": [
    {
     "name": "stdout",
     "output_type": "stream",
     "text": [
      "+------+--------------------+------------+----------+-----+-----+---------+----------+-------+\n",
      "|    Id|              Titulo|Popularidade|Lancamento| Nota|Votos|Orçamento|   Receita|Duração|\n",
      "+------+--------------------+------------+----------+-----+-----+---------+----------+-------+\n",
      "|  1726|            Iron Man|      93.707|2008-04-30|7.639|25035|140000000| 585174222|    126|\n",
      "|  1724| The Incredible Hulk|      65.123|2008-06-12|6.206|11093|150000000| 163712074|    114|\n",
      "| 10138|          Iron Man 2|      99.198|2010-04-28|6.835|19878|200000000| 623933331|    124|\n",
      "| 10195|                Thor|      82.222|2011-04-21|6.767|20132|150000000| 449326618|    115|\n",
      "|  1771|Captain America: ...|      56.576|2011-07-22|6.995|20383|140000000| 370569774|    124|\n",
      "| 24428|        The Avengers|     125.405|2012-04-25|7.711|29325|220000000|1518815515|    143|\n",
      "| 68721|          Iron Man 3|      71.806|2013-04-18|6.927|21181|200000000|1215577205|    130|\n",
      "| 76338|Thor: The Dark World|      75.254|2013-10-30|6.534|16460|170000000| 644783140|    112|\n",
      "|100402|Captain America: ...|      39.976|2014-03-20|7.669|17809|170000000| 714766572|    136|\n",
      "|118340|Guardians of the ...|      39.039|2014-07-30|  7.9|26800|170000000| 772776600|    121|\n",
      "| 99861|Avengers: Age of ...|      99.824|2015-04-22|  7.3|21893|365000000|1405403694|    141|\n",
      "|102899|             Ant-Man|      61.242|2015-07-14|7.081|18835|130000000| 519311965|    117|\n",
      "|271110|Captain America: ...|     101.612|2016-04-27|7.442|21666|250000000|1155046416|    147|\n",
      "|284052|      Doctor Strange|      71.359|2016-10-25|7.426|21051|180000000| 676343174|    115|\n",
      "|283995|Guardians of the ...|      67.355|2017-04-19|7.622|20487|200000000| 863756051|    137|\n",
      "|315635|Spider-Man: Homec...|      88.429|2017-07-05|7.343|20636|175000000| 880166924|    133|\n",
      "|284053|      Thor: Ragnarok|      107.72|2017-10-02|7.595|19664|180000000| 855301806|    131|\n",
      "|284054|       Black Panther|      77.256|2018-02-13|7.388|21165|200000000|1349926083|    135|\n",
      "|299536|Avengers: Infinit...|     198.291|2018-04-25|  8.3|27943|300000000|2052415039|    149|\n",
      "|363088|Ant-Man and the Wasp|      44.228|2018-07-04|6.949|12594|140000000| 622674139|    119|\n",
      "|299537|      Captain Marvel|     105.741|2019-03-06|6.839|14777|152000000|1131416446|    124|\n",
      "|299534|   Avengers: Endgame|     146.438|2019-04-24|8.261|24057|356000000|2800000000|    181|\n",
      "|429617|Spider-Man: Far F...|      85.298|2019-06-28|7.445|14619|160000000|1131927996|    129|\n",
      "|497698|         Black Widow|       70.52|2021-07-07|7.292| 9407|200000000| 379751131|    134|\n",
      "|566525|Shang-Chi and the...|      95.484|2021-09-01| 7.58| 8597|150000000| 432243292|    132|\n",
      "|524434|            Eternals|      91.401|2021-11-03|6.917| 7592|200000000| 402064899|    156|\n",
      "|634649|Spider-Man: No Wa...|     259.813|2021-12-15|  8.0|18501|200000000|1921847111|    148|\n",
      "|453395|Doctor Strange in...|     134.036|2022-05-04|  7.3| 8130|200000000| 955775804|    126|\n",
      "|616037|Thor: Love and Th...|     131.623|2022-07-06|6.508| 6634|250000000| 760928081|    119|\n",
      "|505642|Black Panther: Wa...|     157.956|2022-11-09|7.173| 5611|250000000| 859102154|    162|\n",
      "|640146|Ant-Man and the W...|      158.72|2023-02-15|6.402| 4179|200000000| 476071180|    125|\n",
      "|447365|Guardians of the ...|     244.638|2023-05-03|8.009| 5291|250000000| 845430302|    150|\n",
      "+------+--------------------+------------+----------+-----+-----+---------+----------+-------+\n",
      "\n"
     ]
    }
   ],
   "source": [
    "df_spark.show(100)"
   ]
  },
  {
   "cell_type": "code",
   "execution_count": null,
   "id": "91e44161",
   "metadata": {},
   "outputs": [],
   "source": []
  },
  {
   "cell_type": "code",
   "execution_count": 8,
   "id": "a6cd2a03",
   "metadata": {},
   "outputs": [],
   "source": [
    "#df_spark.createOrReplaceGlobalTempView(\"filmes\")\n",
    "#spark.sql(\"select * from global_temp.filmes\").show()\n",
    "#resultado = spark.sql(\"SELECT *, CASE WHEN Titulo LIKE 'Avengers%' THEN 'Não' ELSE 'Sim' END AS Solo FROM filmes\")\n",
    "\n",
    "#Aqui estava foi a tentativa de criar uma coluna que filtrasse os filmes solos dos herois."
   ]
  },
  {
   "cell_type": "code",
   "execution_count": null,
   "id": "6ca0f149",
   "metadata": {},
   "outputs": [],
   "source": []
  },
  {
   "cell_type": "code",
   "execution_count": null,
   "id": "be114e33",
   "metadata": {},
   "outputs": [],
   "source": []
  },
  {
   "cell_type": "code",
   "execution_count": 9,
   "id": "caf3b11b",
   "metadata": {},
   "outputs": [],
   "source": [
    "df_spark = df_spark.withColumn(\"Vingadores\", when(df_spark[\"Titulo\"].contains(\"Avengers\"), \"Sim\").otherwise(\"Não\"))\n",
    "\n",
    "#Filtro feito dessa maneira, onde criei uma coluna chamada \"Vingadores\" que me diz se esse filme é dos vingadores ou não."
   ]
  },
  {
   "cell_type": "code",
   "execution_count": 16,
   "id": "34c1c43f",
   "metadata": {},
   "outputs": [],
   "source": [
    "df_spark.write.saveAsTable(\"df_sparktb\")"
   ]
  },
  {
   "cell_type": "code",
   "execution_count": 15,
   "id": "97db0d72",
   "metadata": {},
   "outputs": [],
   "source": [
    "#df_spark.write.format(\"parquet\").save(\"C:\\\\Users\\\\victo\\\\Downloads\\\\DATA E ANALYTICS\\\\Documentos\\\\Sprint_9\\\\tabela\\\\\")"
   ]
  },
  {
   "cell_type": "code",
   "execution_count": 17,
   "id": "5b36e56a",
   "metadata": {},
   "outputs": [
    {
     "name": "stdout",
     "output_type": "stream",
     "text": [
      "+---------+----------+-----------+\n",
      "|namespace| tableName|isTemporary|\n",
      "+---------+----------+-----------+\n",
      "|  default|  df_spark|      false|\n",
      "|  default|df_sparktb|      false|\n",
      "+---------+----------+-----------+\n",
      "\n"
     ]
    }
   ],
   "source": [
    "spark.sql(\"show tables\").show()"
   ]
  },
  {
   "cell_type": "code",
   "execution_count": 23,
   "id": "cca38143",
   "metadata": {},
   "outputs": [
    {
     "name": "stdout",
     "output_type": "stream",
     "text": [
      "+------+--------------------+------------+----------+-----+-----+---------+----------+-------+----------+\n",
      "|    Id|              Titulo|Popularidade|Lancamento| Nota|Votos|Orçamento|   Receita|Duração|Vingadores|\n",
      "+------+--------------------+------------+----------+-----+-----+---------+----------+-------+----------+\n",
      "|  1726|            Iron Man|      93.707|2008-04-30|7.639|25035|140000000| 585174222|    126|       Não|\n",
      "|  1724| The Incredible Hulk|      65.123|2008-06-12|6.206|11093|150000000| 163712074|    114|       Não|\n",
      "| 10138|          Iron Man 2|      99.198|2010-04-28|6.835|19878|200000000| 623933331|    124|       Não|\n",
      "| 10195|                Thor|      82.222|2011-04-21|6.767|20132|150000000| 449326618|    115|       Não|\n",
      "|  1771|Captain America: ...|      56.576|2011-07-22|6.995|20383|140000000| 370569774|    124|       Não|\n",
      "| 24428|        The Avengers|     125.405|2012-04-25|7.711|29325|220000000|1518815515|    143|       Sim|\n",
      "| 68721|          Iron Man 3|      71.806|2013-04-18|6.927|21181|200000000|1215577205|    130|       Não|\n",
      "| 76338|Thor: The Dark World|      75.254|2013-10-30|6.534|16460|170000000| 644783140|    112|       Não|\n",
      "|100402|Captain America: ...|      39.976|2014-03-20|7.669|17809|170000000| 714766572|    136|       Não|\n",
      "|118340|Guardians of the ...|      39.039|2014-07-30|  7.9|26800|170000000| 772776600|    121|       Não|\n",
      "| 99861|Avengers: Age of ...|      99.824|2015-04-22|  7.3|21893|365000000|1405403694|    141|       Sim|\n",
      "|102899|             Ant-Man|      61.242|2015-07-14|7.081|18835|130000000| 519311965|    117|       Não|\n",
      "|271110|Captain America: ...|     101.612|2016-04-27|7.442|21666|250000000|1155046416|    147|       Não|\n",
      "|284052|      Doctor Strange|      71.359|2016-10-25|7.426|21051|180000000| 676343174|    115|       Não|\n",
      "|283995|Guardians of the ...|      67.355|2017-04-19|7.622|20487|200000000| 863756051|    137|       Não|\n",
      "|315635|Spider-Man: Homec...|      88.429|2017-07-05|7.343|20636|175000000| 880166924|    133|       Não|\n",
      "|284053|      Thor: Ragnarok|      107.72|2017-10-02|7.595|19664|180000000| 855301806|    131|       Não|\n",
      "|284054|       Black Panther|      77.256|2018-02-13|7.388|21165|200000000|1349926083|    135|       Não|\n",
      "|299536|Avengers: Infinit...|     198.291|2018-04-25|  8.3|27943|300000000|2052415039|    149|       Sim|\n",
      "|363088|Ant-Man and the Wasp|      44.228|2018-07-04|6.949|12594|140000000| 622674139|    119|       Não|\n",
      "+------+--------------------+------------+----------+-----+-----+---------+----------+-------+----------+\n",
      "only showing top 20 rows\n",
      "\n"
     ]
    }
   ],
   "source": [
    "spark.sql(\"select * from df_sparktb\").show()"
   ]
  },
  {
   "cell_type": "code",
   "execution_count": null,
   "id": "15715416",
   "metadata": {},
   "outputs": [],
   "source": []
  },
  {
   "cell_type": "code",
   "execution_count": null,
   "id": "491bed2c",
   "metadata": {},
   "outputs": [],
   "source": []
  },
  {
   "cell_type": "code",
   "execution_count": null,
   "id": "f800351c",
   "metadata": {},
   "outputs": [],
   "source": []
  }
 ],
 "metadata": {
  "kernelspec": {
   "display_name": "Python 3 (ipykernel)",
   "language": "python",
   "name": "python3"
  },
  "language_info": {
   "codemirror_mode": {
    "name": "ipython",
    "version": 3
   },
   "file_extension": ".py",
   "mimetype": "text/x-python",
   "name": "python",
   "nbconvert_exporter": "python",
   "pygments_lexer": "ipython3",
   "version": "3.11.4"
  }
 },
 "nbformat": 4,
 "nbformat_minor": 5
}
