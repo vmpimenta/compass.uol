{
 "cells": [
  {
   "cell_type": "code",
   "execution_count": 1,
   "id": "e1701bdd",
   "metadata": {},
   "outputs": [],
   "source": [
    "import pandas as pd"
   ]
  },
  {
   "cell_type": "code",
   "execution_count": 2,
   "id": "04aec012",
   "metadata": {},
   "outputs": [],
   "source": [
    "df = pd.read_json(\"meusfilmes.json\")\n",
    "# Tive que fazer o download do arquivo JSON enviando antes, pois no momento da criação da trusted, a api não estava funcionando."
   ]
  },
  {
   "cell_type": "code",
   "execution_count": 3,
   "id": "184c68fa",
   "metadata": {},
   "outputs": [],
   "source": [
    "# Aqui peguei todo o dataframe e onde tinha dados \"None\", transformei em \"Null\" ou \"0\".\n",
    "df['backdrop_path'].fillna(\"Null\", inplace=True)\n",
    "df['genre_ids'].fillna(1, inplace=True)\n",
    "df['id'].fillna(0, inplace=True)\n",
    "df['original_language'].fillna('Null', inplace=True)\n",
    "df['original_title'].fillna('Null', inplace=True)\n",
    "df['overview'].fillna('Null', inplace=True)\n",
    "df['popularity'].fillna(0, inplace=True)\n",
    "df['poster_path'].fillna(\"Null\", inplace=True)\n",
    "df['release_date'].fillna(\"0-0-0\", inplace=True)\n",
    "df['title'].fillna(\"Null\", inplace=True)\n",
    "df['video'].fillna(False, inplace=True)\n",
    "df['vote_average'].fillna(0, inplace=True)\n",
    "df['vote_count'].fillna(0, inplace=True)\n"
   ]
  },
  {
   "cell_type": "code",
   "execution_count": 4,
   "id": "5229517f",
   "metadata": {},
   "outputs": [
    {
     "name": "stdout",
     "output_type": "stream",
     "text": [
      "<class 'pandas.core.frame.DataFrame'>\n",
      "RangeIndex: 97 entries, 0 to 96\n",
      "Data columns (total 17 columns):\n",
      " #   Column             Non-Null Count  Dtype  \n",
      "---  ------             --------------  -----  \n",
      " 0   adult              97 non-null     bool   \n",
      " 1   backdrop_path      97 non-null     object \n",
      " 2   genre_ids          97 non-null     object \n",
      " 3   id                 97 non-null     int64  \n",
      " 4   original_language  97 non-null     object \n",
      " 5   original_title     97 non-null     object \n",
      " 6   overview           97 non-null     object \n",
      " 7   popularity         97 non-null     float64\n",
      " 8   poster_path        97 non-null     object \n",
      " 9   release_date       97 non-null     object \n",
      " 10  title              97 non-null     object \n",
      " 11  video              97 non-null     bool   \n",
      " 12  vote_average       97 non-null     float64\n",
      " 13  vote_count         97 non-null     int64  \n",
      " 14  Orçamento          97 non-null     int64  \n",
      " 15  Receita            97 non-null     int64  \n",
      " 16  Duração            97 non-null     int64  \n",
      "dtypes: bool(2), float64(2), int64(5), object(8)\n",
      "memory usage: 11.7+ KB\n"
     ]
    }
   ],
   "source": [
    "# Os dados estão no formato correto... obs:Object=String\n",
    "df.info()"
   ]
  },
  {
   "cell_type": "code",
   "execution_count": 5,
   "id": "78b391b7",
   "metadata": {},
   "outputs": [],
   "source": [
    "nomes_colunas = ['Adulto', 'Pano_Fundo', 'Id_Genero', 'Id', 'Linguagem_Original', 'Titulo_Original', 'Visao_Geral', 'Popularidade', 'Poster', 'Data_Lancamento', 'Titulo', 'Video', 'Votacao', 'Votos', 'Orcamento', 'Receita', 'Duracao']"
   ]
  },
  {
   "cell_type": "code",
   "execution_count": 6,
   "id": "76389372",
   "metadata": {},
   "outputs": [],
   "source": [
    "df.columns = nomes_colunas"
   ]
  },
  {
   "cell_type": "code",
   "execution_count": 7,
   "id": "f23e3d1e",
   "metadata": {},
   "outputs": [],
   "source": [
    "# Minha escolha de filmes foi mais específica, então em relação a tratamento é basicamente isso. Acredito que os dados estão confiaveis.\n",
    "# O conceito de RAW / Trusted / Refined consigo entender.\n",
    "# Devido ao meu atraso resolvi fazer com pandas por ser mais rápido, para tentar acompanhar a sprint;\n"
   ]
  },
  {
   "cell_type": "code",
   "execution_count": null,
   "id": "cf767dee",
   "metadata": {},
   "outputs": [],
   "source": []
  },
  {
   "cell_type": "markdown",
   "id": "eb6ff47b",
   "metadata": {},
   "source": [
    "## Começando a usar o pyspark para transformar o json limpo em parquet"
   ]
  },
  {
   "cell_type": "code",
   "execution_count": 8,
   "id": "3e6fee5c",
   "metadata": {},
   "outputs": [],
   "source": [
    "import findspark \n",
    "findspark.init()\n",
    "import pyspark\n",
    "from pyspark.sql import SparkSession\n",
    "spark = SparkSession.builder.appName(\"Exemplo\").getOrCreate()\n",
    "from pyspark.sql.functions import *\n",
    "from pyspark.sql import functions as Func"
   ]
  },
  {
   "cell_type": "code",
   "execution_count": 9,
   "id": "73fcb024",
   "metadata": {},
   "outputs": [],
   "source": [
    "df_spark = spark.createDataFrame(df)\n",
    "#criando um dataframe spark"
   ]
  },
  {
   "cell_type": "code",
   "execution_count": 10,
   "id": "174c2528",
   "metadata": {},
   "outputs": [
    {
     "name": "stdout",
     "output_type": "stream",
     "text": [
      "+------+--------------------+--------------------+-------+------------------+--------------------+--------------------+------------------+--------------------+---------------+--------------------+-----+------------------+-----+---------+----------+-------+\n",
      "|Adulto|          Pano_Fundo|           Id_Genero|     Id|Linguagem_Original|     Titulo_Original|         Visao_Geral|      Popularidade|              Poster|Data_Lancamento|              Titulo|Video|           Votacao|Votos|Orcamento|   Receita|Duracao|\n",
      "+------+--------------------+--------------------+-------+------------------+--------------------+--------------------+------------------+--------------------+---------------+--------------------+-----+------------------+-----+---------+----------+-------+\n",
      "| false|/feSiISwgEpVzR1v3...|       [28, 12, 878]| 609681|                en|         The Marvels|Carol Danvers, ak...|           732.498|/Ag3D9qXjhJ2FUkrl...|     2023-11-08|         The Marvels|false|               6.5|  387|274800000| 111401072|    105|\n",
      "| false|/14QbnygCuTO0vl7C...|       [28, 12, 878]| 634649|                en|Spider-Man: No Wa...|Peter Parker is u...|           259.813|/5weKu49pzJCt06OP...|     2021-12-15|Spider-Man: No Wa...|false|               8.0|18501|200000000|1921847111|    148|\n",
      "| false|/5YZbUmjbMa3ClvSW...|       [878, 12, 28]| 447365|                en|Guardians of the ...|Peter Quill, stil...|           244.638|/r2J02Z2OpNTctfOS...|     2023-05-03|Guardians of the ...|false|             8.009| 5291|250000000| 845430302|    150|\n",
      "| false|/mDfJG3LC3Dqb67AZ...|       [12, 28, 878]| 299536|                en|Avengers: Infinit...|As the Avengers a...|           198.291|/7WsyChQLEftFiDOV...|     2018-04-25|Avengers: Infinit...|false|               8.3|27943|300000000|2052415039|    149|\n",
      "| false|/m8JTwHFwX7I7JY5f...|       [28, 12, 878]| 640146|                en|Ant-Man and the W...|Super-Hero partne...|            158.72|/qnqGbB22YJ7dSs4o...|     2023-02-15|Ant-Man and the W...|false|             6.402| 4179|200000000| 476071180|    125|\n",
      "| false|/xDMIl84Qo5Tsu62c...|       [28, 12, 878]| 505642|                en|Black Panther: Wa...|Queen Ramonda, Sh...|           157.956|/sv1xJUazXeYqALzc...|     2022-11-09|Black Panther: Wa...|false|             7.173| 5611|250000000| 859102154|    162|\n",
      "| false|/7RyHsO4yDXtBv1zU...|       [12, 878, 28]| 299534|                en|   Avengers: Endgame|After the devasta...|           146.438|/or06FN3Dka5tukK1...|     2019-04-24|   Avengers: Endgame|false|             8.261|24057|356000000|2800000000|    181|\n",
      "| false|/9BBTo63ANSmhC4e6...|       [878, 28, 12]|  24428|                en|        The Avengers|When an unexpecte...|           125.405|/RYMX2wcKCBAr24Uy...|     2012-04-25|        The Avengers|false|             7.711|29325|220000000|1518815515|    143|\n",
      "| false|/iKUwhA4DUxMcNKu5...|        [14, 28, 12]| 453395|                en|Doctor Strange in...|Doctor Strange, w...|           134.036|/fwBl3J2aEXru6mrr...|     2022-05-04|Doctor Strange in...|false|               7.3| 8130|200000000| 955775804|    126|\n",
      "| false|/jsoz1HlxczSuTx0m...|        [14, 28, 35]| 616037|                en|Thor: Love and Th...|After his retirem...|           131.623|/pIkRyD18kl4FhoCN...|     2022-07-06|Thor: Love and Th...|false|             6.508| 6634|250000000| 760928081|    119|\n",
      "| false|/w2PMyoyLU22YvrGK...|       [28, 12, 878]| 299537|                en|      Captain Marvel|The story follows...|           105.741|/AtsgWhDnHTq68L0l...|     2019-03-06|      Captain Marvel|false|             6.839|14777|152000000|1131416446|    124|\n",
      "| false|/kaIfm5ryEOwYg8mL...|       [28, 12, 878]| 284053|                en|      Thor: Ragnarok|Thor is imprisone...|            107.72|/rzRwTcFvttcN1ZpX...|     2017-10-02|      Thor: Ragnarok|false|             7.595|19664|180000000| 855301806|    131|\n",
      "| false|/6YwkGolwdOMNpbTO...|       [28, 12, 878]|  99861|                en|Avengers: Age of ...|When Tony Stark t...|            99.824|/4ssDuvEDkSArWEdy...|     2015-04-22|Avengers: Age of ...|false|               7.3|21893|365000000|1405403694|    141|\n",
      "| false|/cyecB7godJ6kNHGO...|       [28, 878, 12]|   1726|                en|            Iron Man|After being held ...|            93.707|/78lPtwv72eTNqFW9...|     2008-04-30|            Iron Man|false|             7.639|25035|140000000| 585174222|    126|\n",
      "| false|/jesRqfL9v6HNnowe...|       [12, 28, 878]|  10138|                en|          Iron Man 2|With the world no...|            99.198|/6WBeq4fCfn7AN0o2...|     2010-04-28|          Iron Man 2|false|             6.835|19878|200000000| 623933331|    124|\n",
      "| false|/cinER0ESG0eJ49kX...|        [28, 12, 14]| 566525|                en|Shang-Chi and the...|Shang-Chi must co...|            95.484|/1BIoJGKbXjdFDAqU...|     2021-09-01|Shang-Chi and the...|false|              7.58| 8597|150000000| 432243292|    132|\n",
      "| false|/c6H7Z4u73ir3cIoC...|       [878, 28, 12]| 524434|                en|            Eternals|The Eternals are ...|            91.401|/lFByFSLV5WDJEv3K...|     2021-11-03|            Eternals|false|             6.917| 7592|200000000| 402064899|    156|\n",
      "| false|/wdwcOBMkt3zmPQuE...|       [12, 28, 878]| 271110|                en|Captain America: ...|Following the eve...|           101.612|/rAGiXaUfPzY7CDEy...|     2016-04-27|Captain America: ...|false|             7.442|21666|250000000|1155046416|    147|\n",
      "| false|/cDJ61O1STtbWNBwe...|        [12, 14, 28]|  10195|                en|                Thor|Against his fathe...|            82.222|/prSfAi1xGrhLQNxV...|     2011-04-21|                Thor|false|             6.767|20132|150000000| 449326618|    115|\n",
      "| false|/w1oD1MzHjnBJc5sn...|        [14, 28, 12]|    559|                en|        Spider-Man 3|The seemingly inv...|            90.833|/qFmwhVUoUSXjkKRm...|     2007-05-01|        Spider-Man 3|false|             6.402|13206|258000000| 894983373|    139|\n",
      "| false|/fn4n6uOYcB6Uh89n...|   [28, 12, 878, 18]| 315635|                en|Spider-Man: Homec...|Following the eve...|            88.429|/c24sv2weTHPsmDa7...|     2017-07-05|Spider-Man: Homec...|false|             7.343|20636|175000000| 880166924|    133|\n",
      "| false|/ng6SSB3JhbcpKTwb...|       [28, 12, 878]| 429617|                en|Spider-Man: Far F...|Peter Parker and ...|            85.298|/4q2NNj4S5dG2RLF9...|     2019-06-28|Spider-Man: Far F...|false|             7.445|14619|160000000|1131927996|    129|\n",
      "| false|/aL53oMdZKZRJRH8t...|        [28, 12, 14]| 284052|                en|      Doctor Strange|After his career ...|            71.359|/uGBVj3bEbCoZbDjj...|     2016-10-25|      Doctor Strange|false|             7.426|21051|180000000| 676343174|    115|\n",
      "| false|/keIxh0wPr2Ymj0Bt...|       [28, 12, 878]| 497698|                en|         Black Widow|Natasha Romanoff,...|             70.52|/kwB7d51AIcyzPOBO...|     2021-07-07|         Black Widow|false|             7.292| 9407|200000000| 379751131|    134|\n",
      "| false|/4zTsF0RtO0av3YX1...|        [28, 12, 14]|  76338|                en|Thor: The Dark World|Thor fights to re...|            75.254|/wp6OxE4poJ4G7c0U...|     2013-10-30|Thor: The Dark World|false|             6.534|16460|170000000| 644783140|    112|\n",
      "| false|/aFTYFqrWp4RS46Tw...|       [28, 12, 878]|  68721|                en|          Iron Man 3|When Tony Stark's...|            71.806|/qhPtAc1TKbMPqNvc...|     2013-04-18|          Iron Man 3|false|             6.927|21181|200000000|1215577205|    130|\n",
      "| false|/b6ZJZHUdMEFECvGi...|       [28, 12, 878]| 284054|                en|       Black Panther|King T'Challa ret...|            77.256|/uxzzxijgPIY7slzF...|     2018-02-13|       Black Panther|false|             7.388|21165|200000000|1349926083|    135|\n",
      "| false|/1K3JmSNUN8OpjYsC...|       [878, 28, 12]| 102899|                en|             Ant-Man|Armed with the as...|            61.242|/8YxOIPrabqkQCOKK...|     2015-07-14|             Ant-Man|false|             7.081|18835|130000000| 519311965|    117|\n",
      "| false|/aJn9XeesqsrSLKcH...|       [878, 12, 28]| 283995|                en|Guardians of the ...|The Guardians mus...|            67.355|/y4MBh0EjBlMuOzv9...|     2017-04-19|Guardians of the ...|false|             7.622|20487|200000000| 863756051|    137|\n",
      "| false|/xfBnQ4mgf1jYZssc...|       [878, 28, 12]|   1724|                en| The Incredible Hulk|Scientist Bruce B...|            65.123|/gKzYx79y0AQTL4UA...|     2008-06-12| The Incredible Hulk|false|             6.206|11093|150000000| 163712074|    114|\n",
      "| false|/mbY234XwMwEofAdX...|        [28, 12, 35]| 533535|                en|          Deadpool 3|                    |             44.14|/4gdqWCVvidYR0pOH...|     2024-07-25|          Deadpool 3|false|               0.0|    0|        0|         0|      0|\n",
      "| false|/7zS58YPAw002RNej...|        [53, 28, 14]|   1250|                en|         Ghost Rider|In order to save ...|            55.679|/8LaVQiXBsnlo7MXC...|     2007-01-15|         Ghost Rider|false|             5.548| 5522|110000000| 228738393|    114|\n",
      "| false|/4NWWpT0jiMUak8r6...|       [28, 12, 878]|   1771|                en|Captain America: ...|During World War ...|            56.576|/vSNxAJTlD0r02V9s...|     2011-07-22|Captain America: ...|false|             6.995|20383|140000000| 370569774|    124|\n",
      "| false|/iYdgEUE2W2aJkgqf...|       [28, 12, 878]| 363088|                en|Ant-Man and the Wasp|Just when his tim...|            44.228|/cFQEO687n1K6umXb...|     2018-07-04|Ant-Man and the Wasp|false|             6.949|12594|140000000| 622674139|    119|\n",
      "| false|/pfAZP7JvTTxqgq7n...|        [28, 14, 27]| 894205|                en|   Werewolf by Night|On a dark and som...|            46.487|/jmv7EbqBuEk4V1U7...|     2022-09-25|   Werewolf by Night|false|             7.027| 1084|        0|         0|     55|\n",
      "| false|/nJbWAc8wakV3Bncy...|       [35, 878, 12]| 774752|                en|The Guardians of ...|On a mission to m...|            44.359|/8dqXyslZ2hv49Oio...|     2022-11-25|The Guardians of ...|false|               7.2| 1676|        0|         0|     45|\n",
      "| false|/1RWLMyC9KcFfcaoV...|       [28, 12, 878]| 100402|                en|Captain America: ...|After the catacly...|            39.976|/tVFRpFw3xTedgPGq...|     2014-03-20|Captain America: ...|false|7.6690000000000005|17809|170000000| 714766572|    136|\n",
      "| false|/uLtVbjvS1O7gXL8l...|       [28, 878, 12]| 118340|                en|Guardians of the ...|Light years from ...|            39.039|/r7vmZjiyZw9rpJMQ...|     2014-07-30|Guardians of the ...|false|               7.9|26800|170000000| 772776600|    121|\n",
      "| false|/7ff2FyFmskEFfmXH...|    [12, 14, 28, 53]|   1979|                en|Fantastic Four: R...|The Fantastic Fou...|            37.771|/f3ldtPF7SESMcyAI...|     2007-06-13|Fantastic Four: R...|false|             5.593| 7423|130000000| 301913131|     92|\n",
      "| false|/phHZMvFlj5A03gzp...|                [99]|1165500|                en|Marvel Studios As...|Through in-depth ...|            32.145|/8YDNwj9gsAQlcHQA...|     2023-09-20|Marvel Studios As...|false|             4.263|   19|        0|         0|     48|\n",
      "| false|/uR952NrgispGuyqI...|       [28, 878, 12]|1003596|                en|Avengers: The Kan...|An upcoming film ...|            31.232|/utZTb3VBrH0zR77B...|     2026-04-29|Avengers: The Kan...|false|               0.0|    0|        0|         0|      0|\n",
      "| false|/4bsz75kSdeVQm9u5...|[16, 10751, 35, 878]|1010821|                en|  Groot Takes a Bath|Everybody needs s...|            27.947|/sN7FJP06TsNNtK9J...|     2022-08-10|  Groot Takes a Bath|false|             7.136|  312|        0|         0|      6|\n",
      "| false|/9bColKVEAaWfmOLi...|[16, 10751, 35, 878]|1010818|                en| Groot's First Steps|Following the eve...|            25.373|/1ifiV9ZJD4tC3tRY...|     2022-08-10| Groot's First Steps|false|             7.008|  307|        0|         0|      6|\n",
      "| false|/dqPZpQy6PJINOJtl...|            [28, 80]|  13056|                en|  Punisher: War Zone|Waging his one-ma...|             28.37|/oOvKJgYUIpfswGHA...|     2008-12-05|  Punisher: War Zone|false|             5.795| 1050| 20500000|  10089373|    102|\n",
      "| false|/jqFC2WjYF07hx2X7...|           [28, 878]|1003598|                en|Avengers: Secret ...|An upcoming film ...|            23.386|/8chwENebfUEJzZ7s...|     2027-05-05|Avengers: Secret ...|false|               0.0|    0|        0|         0|      0|\n",
      "| false|/fBjMi7YcVN2lYaII...|                [99]|1076032|                en|Marvel Studios As...|Follow the produc...|            18.651|/mYTPKWO7a4mHKLyk...|     2023-02-08|Marvel Studios As...|false|             6.829|   41|        0|         0|     58|\n",
      "| false|/qYvpc3qLb0LpGOBS...|       [28, 12, 878]| 822119|                en|Captain America: ...|A sequel to Marve...|             23.58|/ghkjPyaPGMfDufOa...|     2025-02-14|Captain America: ...|false|               0.0|    0|        0|         0|      0|\n",
      "| false|/tTrZap8lEJsdpnab...|[16, 10751, 35, 878]|1010819|                en|      The Little Guy|Groot discovers a...|            24.071|/lPzcizL8PdS2U1q0...|     2022-08-10|      The Little Guy|false|             7.302|  240|        0|         0|      6|\n",
      "| false|/qtKlSjETlYzbq4UR...|[16, 10751, 878, 35]|1010823|                en|         Magnum Opus|Groot sets out to...|            22.198|/8p8JsKokKbuNCn9y...|     2022-07-18|         Magnum Opus|false|7.2780000000000005|  232|        0|         0|      5|\n",
      "| false|/709oX5ro1SON6Oka...|                [99]| 979160|                en|A Fan's Guide to ...|A documentary sho...|            14.022|/aolMYjs6QWonQFln...|     2022-06-01|A Fan's Guide to ...|false|             7.104|   67|        0|         0|      5|\n",
      "| false|/hFtJz4TvoiJJcw2Z...|                [14]| 617127|                en|               Blade|A film set in the...|             14.68|/fKqA4rgVJwrM7Gb3...|     2025-11-06|               Blade|false|               0.0|    0|        0|         0|      0|\n",
      "| false|/jaEWCQ93FUGCp4p5...|[16, 10751, 35, 878]|1010820|                en|     Groot's Pursuit|Groot investigate...|            14.592|/z5AQHYTTx7DzG9CR...|     2022-08-10|     Groot's Pursuit|false|             7.094|  235|        0|         0|      6|\n",
      "| false|/10s2Czm8wQlY8a8h...|                [99]|1165487|                en|Marvel Studios As...|Join visionary di...|            18.031|/w9rY9CT7pI3pl6AT...|     2023-09-13|Marvel Studios As...|false|               6.5|    6|        0|         0|     58|\n",
      "| false|/r1Q3jyOpfbF3VDU5...|   [12, 14, 878, 28]|  76122|                en|Marvel One-Shot: ...|Agent Coulson inf...|            21.057|/xqNLXUUvBnfVk6m3...|     2011-09-13|Marvel One-Shot: ...|false|             6.326|  483|   500000|         0|      4|\n",
      "| false|/e6RHrRaG8t5o2REY...|        [28, 35, 14]| 253980|                en|Marvel One-Shot: ...|A documentary fil...|            13.708|/ozXvopXv1TiOTls8...|     2014-02-04|Marvel One-Shot: ...|false|             6.774|  466|        0|         0|     14|\n",
      "| false|/jvm3kwALwfmVcj3s...|   [28, 12, 878, 14]| 211387|                en|Marvel One-Shot: ...|The film takes pl...|            18.175|/4vFKKWPvCVDJTOWi...|     2013-09-03|Marvel One-Shot: ...|false|             7.222|  690|        0|         0|     15|\n",
      "| false|/1RwWclnfcAcFG5n1...|           [878, 14]|  76535|                en|Marvel One-Shot: ...|Agent Coulson sto...|            18.171|/njrOqsmFH4pxBrhc...|     2011-10-25|Marvel One-Shot: ...|false|             6.816|  412|   500000|         0|      4|\n",
      "| false|/qXOYUTJ5p5aINFGm...|                [99]|1001912|                en|Marvel Studios As...|Go behind-the-sce...|            11.031|/6m0rG2bS90FOlUax...|     2022-08-03|Marvel Studios As...|false|             7.232|   28|        0|         0|     62|\n",
      "| false|/2l9yXhNtLC5SHa81...|         [99, 10770]| 259910|                en|Marvel Studios: A...|A look at the sto...|            14.383|/41Ke02UzYoPsiTc3...|     2014-03-18|Marvel Studios: A...|false|               6.9|  151|        0|         0|     43|\n",
      "| false|/ldxi7dKtud2KrStU...|   [12, 16, 28, 878]|  14611|                en| Ultimate Avengers 2|Mysterious Wakand...|            19.559|/h1PKqtjuTifmTU0E...|     2006-08-08| Ultimate Avengers 2|false|               6.7|  261|        0|         0|     73|\n",
      "| false|/8N91uYwrr1uepEKb...|[16, 10751, 28, 1...|  14613|                en|Next Avengers: He...|The children of t...|            17.547|/fpG1NDbcLV2a7c8X...|     2008-09-02|Next Avengers: He...|false|               6.9|  237|        0|   3800000|     78|\n",
      "| false|/oBIn5pHlbmZgr5b8...|       [878, 35, 14]| 441829|                en|   Team Thor: Part 2|A continuation of...|            11.418|/9Vt1OLu3BrKy1IQF...|     2017-02-14|   Team Thor: Part 2|false|             6.971|  289|        0|         0|      5|\n",
      "| false|/vy3uI3PCQWVnoW7O...|   [28, 16, 14, 878]|  14830|                en|      Doctor Strange|Dr. Stephen Stran...|            17.438|/7ygcpWXsWmEc83j7...|     2007-08-14|      Doctor Strange|false|               6.8|  296|        0|         0|     76|\n",
      "| false|/rhyJbGkOsJB9W1cO...|[28, 12, 16, 14, ...|  13647|                en|The Invincible Ir...|When a cocky indu...|             15.67|/eebNTSRa5Hh5skPK...|     2007-01-23|The Invincible Ir...|false|               6.1|  215|        0|         0|     83|\n",
      "| false|/wS3ofKrgeSWR85TS...|[16, 28, 878, 12,...|  15257|                en|  Hulk vs. Wolverine|Department H send...|            16.652|/p8PZfkrCuXanfYr3...|     2009-01-27|  Hulk vs. Wolverine|false|               7.1|  215|        0|         0|     38|\n",
      "| false|/1y6dEBTOzCyJRetN...|   [28, 16, 14, 878]| 101907|                en|       Hulk vs. Thor|For ages, Odin ha...|             12.89|/pezTIa0SmmNIhjQW...|     2009-01-27|       Hulk vs. Thor|false|6.7940000000000005|  199|        0|         0|     41|\n",
      "| false|/imkqp2S4ZXEGczb5...|                [99]| 939356|                en|Marvel Studios As...|Join director Chl...|            17.506|/fBJ5ZjFJ6IHQWz90...|     2022-02-16|Marvel Studios As...|false|              7.33|   47|        0|         0|     58|\n",
      "| false|/cU0NFIVj11wo2ERN...|           [35, 878]| 413279|                en|           Team Thor|Discover what Tho...|            14.287|/jVSmX89BvsQV2z3w...|     2016-08-28|           Team Thor|false|             7.283|  493|        0|         0|      3|\n",
      "| false|/mnJtSmQ52TF3vvtC...|                [99]|1026208|                en|Marvel Studios As...|Join the likes of...|            12.035|/yhFN7yvskzm1Tskn...|     2022-11-03|Marvel Studios As...|false|             7.014|   37|        0|         0|     54|\n",
      "| false|/pC36ONAaKMXStlvu...|       [878, 28, 14]| 119569|                en|Marvel One-Shot: ...|Benny and Claire,...|            15.121|/hnSxG8clwLuAXEkp...|     2012-09-13|Marvel One-Shot: ...|false|             6.455|  480|        0|         0|     12|\n",
      "| false|/coxMHDtNRcyNmriZ...|                [99]| 980017|                en|Marvel Studios As...|Join visionary di...|             13.71|/eIzPe62s12uHsIPh...|     2022-07-08|Marvel Studios As...|false|             7.122|   37|        0|         0|     59|\n",
      "| false|/jUhqvox1RCNMg4yW...|                [99]| 936643|                en|Marvel Studios As...|Join the likes of...|11.524000000000001|/pQOLNPHe4rwXl3Rp...|     2022-02-09|Marvel Studios As...|false|             7.125|   40|        0|         0|     60|\n",
      "| false|/qlwBv4v6EoeN2JxG...|               [878]| 617126|                en|      Fantastic Four|Set in the Marvel...|            13.237|/jatnqRPnxjg2Q6cF...|     2025-04-30|      Fantastic Four|false|               0.0|    0|        0|         0|      0|\n",
      "| false|/bZtu0UE0afN3jrko...|                [35]| 505945|                en|         Team Darryl|Fresh off being u...|             8.653|/edroTAeTEM9ILyAn...|     2018-02-20|         Team Darryl|false|               6.2|  128|        0|         0|      6|\n",
      "| false|/u0HBu7x5cwFe7BN7...|                [99]| 717082|                en|            Stan Lee|Celebrate the leg...|             9.646|/iWBOKF0yl7pHK9y8...|     2023-06-16|            Stan Lee|false|             7.232|   56|        0|         0|     86|\n",
      "| false|/vzVojqW0zF9QrXVG...|            [28, 12]| 986056|                en|        Thunderbolts|A world without A...|             9.295|/dHhniU1vz1C0j27A...|     2025-07-24|        Thunderbolts|false|               0.0|    0|        0|         0|      0|\n",
      "| false|/na17QbhoGqwM1X5a...|                [99]| 964943|                en|Marvel Studios As...|Join the likes of...|            10.604|/dM6Y4uLzeF4rqbmK...|     2022-05-25|Marvel Studios As...|false|             7.219|   32|        0|         0|     67|\n",
      "| false|                Null|                [99]|1192825|                en|Marvel Studios As...|Through candid in...|             9.113|                Null|     2023-11-29|Marvel Studios As...|false|               0.0|    0|        0|         0|      0|\n",
      "| false|/qG5A6fWoP5inQa16...|       [878, 28, 12]| 758025|                en|  Peter's To-Do List|On the eve of his...|             6.833|/2LoW0WMYHwhxXQr1...|     2019-09-17|  Peter's To-Do List|false|              6.82|   61|        0|         0|      4|\n",
      "| false|/qG5A6fWoP5inQa16...|       [878, 28, 12]| 758025|                en|  Peter's To-Do List|On the eve of his...|             6.833|/2LoW0WMYHwhxXQr1...|     2019-09-17|  Peter's To-Do List|false|              6.82|   61|        0|         0|      4|\n",
      "| false|/qG5A6fWoP5inQa16...|       [878, 28, 12]| 758025|                en|  Peter's To-Do List|On the eve of his...|             6.833|/2LoW0WMYHwhxXQr1...|     2019-09-17|  Peter's To-Do List|false|              6.82|   61|        0|         0|      4|\n",
      "| false|/qG5A6fWoP5inQa16...|       [878, 28, 12]| 758025|                en|  Peter's To-Do List|On the eve of his...|             6.833|/2LoW0WMYHwhxXQr1...|     2019-09-17|  Peter's To-Do List|false|              6.82|   61|        0|         0|      4|\n",
      "| false|                Null|           [28, 878]| 969681|                en|        Spider-Man 4|The next installm...|              6.73|                Null|               |        Spider-Man 4|false|               0.0|    0|        0|         0|      0|\n",
      "| false|                Null|           [28, 878]| 969681|                en|        Spider-Man 4|The next installm...|              6.73|                Null|               |        Spider-Man 4|false|               0.0|    0|        0|         0|      0|\n",
      "| false|                Null|           [28, 878]| 969681|                en|        Spider-Man 4|The next installm...|              6.73|                Null|               |        Spider-Man 4|false|               0.0|    0|        0|         0|      0|\n",
      "| false|                Null|           [28, 878]| 969681|                en|        Spider-Man 4|The next installm...|              6.73|                Null|               |        Spider-Man 4|false|               0.0|    0|        0|         0|      0|\n",
      "| false|/43NgWUj0Sr9AoM8P...|                [99]| 647375|                en|Marvel Studios: E...|An exciting look ...|             7.223|/dU7qXzttvOUvSlww...|     2019-11-12|Marvel Studios: E...|false|               5.7|   22|        0|         0|     12|\n",
      "| false|                Null|        [28, 12, 14]| 912502|                en|Untitled Shang-Ch...|Sequel to the 202...|             6.555|/ruUz3vhYuq3011Wz...|               |Untitled Shang-Ch...|false|               0.0|    0|        0|         0|      0|\n",
      "| false|/rLnv5QXUE3ITZTfr...|                [99]| 877188|                en|Marvel Studios' 2...|Explore the Disne...|             6.079|/zh0B5DDP93e3zokk...|     2021-11-12|Marvel Studios' 2...|false|               6.7|   24|        0|         0|     14|\n",
      "| false|/hGg4e8ZuLOYT46ER...|                [99]| 379040|                en|Marvel's Captain ...|A full-length doc...|              5.95|/lr8ZujMvC36pHXRi...|     2016-01-19|Marvel's Captain ...|false|             6.703|   32|        0|         0|     42|\n",
      "| false|/h7BU4fdLjF8ly8NF...|           [878, 28]|1030022|                en|          Armor Wars|James Rhodes aka ...|             5.277|/vDbzi8eM710THVCw...|               |          Armor Wars|false|               0.0|    0|        0|         0|      0|\n",
      "| false|/rhuqRlqEZhTqKdiR...|                [99]|1036996|                en|   Director by Night|Acclaimed compose...|             5.233|/hmaM75vvcYPd9Hdi...|     2022-11-04|   Director by Night|false|              6.25|   14|        0|         0|     54|\n",
      "| false|                Null|                [99]| 244888|                en|Jack Kirby: Story...|A documentary on ...|             1.607|/txVNxI2bSgqiIweb...|     2007-06-05|Jack Kirby: Story...|false|               6.5|    6|        0|         0|     64|\n",
      "| false|                Null|                  []|1072946|                en|    Doctor Strange 3|Rumored sequel to...|1.6019999999999999|                Null|               |    Doctor Strange 3|false|               0.0|    0|        0|         0|      0|\n",
      "| false|                Null|           [878, 14]|1196551|                en|              Thor 5|Rumored fifth ins...|              1.46|                Null|               |              Thor 5|false|               0.0|    0|        0|         0|      0|\n",
      "| false|                Null|                  []|1037199|                en|     Black Panther 3|Rumored third ins...|              1.46|                Null|               |     Black Panther 3|false|               0.0|    0|        0|         0|      0|\n",
      "| false|                Null|             [10770]|1101411|                en|Untitled Sentry S...|A Marvel Studios ...|             1.126|                Null|               |Untitled Sentry S...|false|               0.0|    0|        0|         0|      0|\n",
      "+------+--------------------+--------------------+-------+------------------+--------------------+--------------------+------------------+--------------------+---------------+--------------------+-----+------------------+-----+---------+----------+-------+\n",
      "\n"
     ]
    }
   ],
   "source": [
    "df_spark.show(100)"
   ]
  },
  {
   "cell_type": "markdown",
   "id": "0610a8f1",
   "metadata": {},
   "source": [
    "# Falta salvar esse DATAFRAME SPARK COMO PARQUET E ENVIAR PRO S3"
   ]
  },
  {
   "cell_type": "code",
   "execution_count": 11,
   "id": "066e1adc",
   "metadata": {},
   "outputs": [],
   "source": [
    "df_spark.write.format(\"parquet\").save(\"C:\\\\Users\\\\victo\\\\Downloads\\\\DATA E ANALYTICS\\\\Documentos\\\\Sprint_9\\\\parquet\")\n",
    "# Salvando o dataframe spark como parquet.. tentei salvar o dataframe inteiro em um único arquivo, sem sucesso."
   ]
  },
  {
   "cell_type": "code",
   "execution_count": 17,
   "id": "899f1929",
   "metadata": {},
   "outputs": [],
   "source": [
    "testando = spark.read.format(\"parquet\").load(\"C:\\\\Users\\\\victo\\\\Downloads\\\\DATA E ANALYTICS\\\\Documentos\\\\Sprint_8\\\\parquet\\\\part-00000-7f53a870-5f44-471d-9c62-b464e6c4ff9d-c000.snappy.parquet\")\n",
    "#um teste pra saber se os dados estavam certos..."
   ]
  },
  {
   "cell_type": "code",
   "execution_count": 12,
   "id": "739dcb25",
   "metadata": {},
   "outputs": [],
   "source": [
    "df_spark.write.saveAsTable(\"df_trusted\")\n",
    "#então salvei o dataframe em uma tabela, para *tentar* salvar em um unico arquivo parquet. Também não consegui."
   ]
  },
  {
   "cell_type": "code",
   "execution_count": 13,
   "id": "a83ff51e",
   "metadata": {},
   "outputs": [],
   "source": [
    "df_spark = spark.sql(\"select * from df_trusted\")"
   ]
  },
  {
   "cell_type": "code",
   "execution_count": 44,
   "id": "fc8dd01d",
   "metadata": {},
   "outputs": [],
   "source": [
    "df_spark.write.parquet(\"C:\\\\Users\\\\victo\\\\Downloads\\\\DATA E ANALYTICS\\\\Documentos\\\\Sprint_9\\\\parquet_certo\")\n",
    "#Salvando como parquet... e aqui mesmo irei mandar para o S3"
   ]
  },
  {
   "cell_type": "code",
   "execution_count": 49,
   "id": "175c3f96",
   "metadata": {},
   "outputs": [],
   "source": [
    "import boto3\n",
    "import os \n",
    "\n",
    "client = boto3.client('s3',\n",
    "                      aws_access_key_id=\"*******\",\n",
    "                      aws_secret_access_key=\"*****\"\n",
    "                      )\n",
    "\n",
    "client.upload_file(\"parquet.parquet\", \"pimprawzone\",\"TRT/Movies/Parquet/arquivo.parquet\")\n",
    "# Busquei como enviar uma pasta ou vários arquivos de um só vez para o S3, mas não achei info. Como não queria enviar arquivo por arquivo, precisei ir pro AWS Glue."
   ]
  },
  {
   "cell_type": "code",
   "execution_count": null,
   "id": "c70b0de9",
   "metadata": {},
   "outputs": [],
   "source": [
    "# sinto muito por não conseguir concluir no prazo e da maneira que deveria ser feita... essa foi a forma que consegui seguir para pelo menos concluir."
   ]
  },
  {
   "cell_type": "code",
   "execution_count": 15,
   "id": "4b890715",
   "metadata": {},
   "outputs": [
    {
     "name": "stdout",
     "output_type": "stream",
     "text": [
      "+------+--------------------+-------------+------+------------------+--------------------+--------------------+------------+--------------------+---------------+--------------------+-----+------------------+-----+---------+---------+-------+\n",
      "|Adulto|          Pano_Fundo|    Id_Genero|    Id|Linguagem_Original|     Titulo_Original|         Visao_Geral|Popularidade|              Poster|Data_Lancamento|              Titulo|Video|           Votacao|Votos|Orcamento|  Receita|Duracao|\n",
      "+------+--------------------+-------------+------+------------------+--------------------+--------------------+------------+--------------------+---------------+--------------------+-----+------------------+-----+---------+---------+-------+\n",
      "| false|/4NWWpT0jiMUak8r6...|[28, 12, 878]|  1771|                en|Captain America: ...|During World War ...|      56.576|/vSNxAJTlD0r02V9s...|     2011-07-22|Captain America: ...|false|             6.995|20383|140000000|370569774|    124|\n",
      "| false|/iYdgEUE2W2aJkgqf...|[28, 12, 878]|363088|                en|Ant-Man and the Wasp|Just when his tim...|      44.228|/cFQEO687n1K6umXb...|     2018-07-04|Ant-Man and the Wasp|false|             6.949|12594|140000000|622674139|    119|\n",
      "| false|/pfAZP7JvTTxqgq7n...| [28, 14, 27]|894205|                en|   Werewolf by Night|On a dark and som...|      46.487|/jmv7EbqBuEk4V1U7...|     2022-09-25|   Werewolf by Night|false|             7.027| 1084|        0|        0|     55|\n",
      "| false|/nJbWAc8wakV3Bncy...|[35, 878, 12]|774752|                en|The Guardians of ...|On a mission to m...|      44.359|/8dqXyslZ2hv49Oio...|     2022-11-25|The Guardians of ...|false|               7.2| 1676|        0|        0|     45|\n",
      "| false|/1RWLMyC9KcFfcaoV...|[28, 12, 878]|100402|                en|Captain America: ...|After the catacly...|      39.976|/tVFRpFw3xTedgPGq...|     2014-03-20|Captain America: ...|false|7.6690000000000005|17809|170000000|714766572|    136|\n",
      "+------+--------------------+-------------+------+------------------+--------------------+--------------------+------------+--------------------+---------------+--------------------+-----+------------------+-----+---------+---------+-------+\n",
      "only showing top 5 rows\n",
      "\n"
     ]
    }
   ],
   "source": [
    "df_spark.show(5)"
   ]
  },
  {
   "cell_type": "markdown",
   "id": "43f88c43",
   "metadata": {},
   "source": [
    "A CONCLUSÃO FOI FEITA NO AWS GLUE OU NO ARQUIVO, 'DESAFIO-TRUSTED_GLUE'."
   ]
  },
  {
   "cell_type": "code",
   "execution_count": null,
   "id": "d2578101",
   "metadata": {},
   "outputs": [],
   "source": []
  }
 ],
 "metadata": {
  "kernelspec": {
   "display_name": "Python 3 (ipykernel)",
   "language": "python",
   "name": "python3"
  },
  "language_info": {
   "codemirror_mode": {
    "name": "ipython",
    "version": 3
   },
   "file_extension": ".py",
   "mimetype": "text/x-python",
   "name": "python",
   "nbconvert_exporter": "python",
   "pygments_lexer": "ipython3",
   "version": "3.11.4"
  }
 },
 "nbformat": 4,
 "nbformat_minor": 5
}
