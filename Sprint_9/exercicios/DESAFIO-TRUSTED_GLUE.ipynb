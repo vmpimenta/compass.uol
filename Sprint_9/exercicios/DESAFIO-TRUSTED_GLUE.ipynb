{
 "cells": [
  {
   "cell_type": "markdown",
   "id": "f98131d8",
   "metadata": {},
   "source": [
    "Não consegui concluir usando Pandas e Pyspark aqui no jupyter... Então precisei ir para o Glue, estava com bastante dificuldade de usar, mas está dando certo, então esse foi basicamente o mesmo código que fiz no pandas. \n",
    "No meu ponto de vista, devido a escolha que fiz, está tudo muito simples, desde minha análise, limpeza e provavelmente o dasboard sairá simples também. Não consegui fazer tudo da maneira que deveria, então só estou tentando fazer da forma que consigo. \n",
    "Esse código foi uma pesca que fiz para usar no AWS GLUE. Terá prints do Glue no github dessa sprint."
   ]
  },
  {
   "cell_type": "code",
   "execution_count": 1,
   "id": "f00dfdd9",
   "metadata": {},
   "outputs": [],
   "source": [
    "import pandas as pd\n",
    "import findspark \n",
    "findspark.init()\n",
    "import pyspark\n",
    "from pyspark.sql import SparkSession\n",
    "spark = SparkSession.builder.appName(\"Exemplo2\").getOrCreate()\n",
    "from pyspark.sql.functions import *\n",
    "from pyspark.sql import functions as Func"
   ]
  },
  {
   "cell_type": "code",
   "execution_count": 3,
   "id": "c4248a90",
   "metadata": {},
   "outputs": [],
   "source": [
    "df = spark.read.format(\"json\").load(\"meusfilmes.json\")"
   ]
  },
  {
   "cell_type": "code",
   "execution_count": 6,
   "id": "431264a7",
   "metadata": {},
   "outputs": [],
   "source": [
    "df_spark = (\n",
    "    df\n",
    "    .na.fill(\"Null\", subset=['backdrop_path', 'original_language', 'original_title', 'overview', 'poster_path', 'release_date', 'title'])\n",
    "    .na.fill(1, subset=['genre_ids'])\n",
    "    .na.fill(0, subset=['id', 'popularity', 'vote_average', 'vote_count'])\n",
    "    .na.fill(\"Null\", subset=['poster_path'])\n",
    "    .na.fill(\"0-0-0\", subset=['release_date'])\n",
    "    .na.fill(False, subset=['video'])\n",
    ")"
   ]
  },
  {
   "cell_type": "code",
   "execution_count": 8,
   "id": "acb97c76",
   "metadata": {},
   "outputs": [],
   "source": [
    "df_spark = df_spark.withColumnRenamed('original_language',\"Linguagem_Original\")\n",
    "df_spark = df_spark.withColumnRenamed('original_title',\"Titulo_Original\")\n",
    "df_spark = df_spark.withColumnRenamed('overview',\"Visao_Geral\")\n",
    "df_spark = df_spark.withColumnRenamed('poster_path',\"Poster\")\n",
    "df_spark = df_spark.withColumnRenamed('release_date',\"Lancamento\")\n",
    "df_spark = df_spark.withColumnRenamed('title',\"Titulo\")\n",
    "df_spark = df_spark.withColumnRenamed('video',\"Video\")\n",
    "df_spark = df_spark.withColumnRenamed('genre_ids',\"IdGenero\")\n",
    "df_spark = df_spark.withColumnRenamed('id',\"Id\")\n",
    "df_spark = df_spark.withColumnRenamed('backdrop_path',\"PanoFundo\")\n",
    "df_spark = df_spark.withColumnRenamed('vote_count',\"Votos\")\n",
    "df_spark = df_spark.withColumnRenamed('vote_average',\"Nota\")\n",
    "df_spark = df_spark.withColumnRenamed('popularity',\"Popularidade\")\n",
    "df_spark = df_spark.withColumnRenamed('adult',\"Adulto\")"
   ]
  },
  {
   "cell_type": "code",
   "execution_count": null,
   "id": "a173a4ed",
   "metadata": {},
   "outputs": [],
   "source": [
    "df_spark.write.format(\"parquet\").save(target_path)"
   ]
  },
  {
   "cell_type": "code",
   "execution_count": 10,
   "id": "20fc85c0",
   "metadata": {},
   "outputs": [
    {
     "name": "stdout",
     "output_type": "stream",
     "text": [
      "+-------+---------+---------+------+--------------------+-------------+------+------------------+---------------+--------------------+------------+--------------------+----------+-----------+-----+----+-----+\n",
      "|Duração|Orçamento|  Receita|Adulto|           PanoFundo|     IdGenero|    Id|Linguagem_Original|Titulo_Original|         Visao_Geral|Popularidade|              Poster|Lancamento|     Titulo|Video|Nota|Votos|\n",
      "+-------+---------+---------+------+--------------------+-------------+------+------------------+---------------+--------------------+------------+--------------------+----------+-----------+-----+----+-----+\n",
      "|    105|274800000|111401072| false|/feSiISwgEpVzR1v3...|[28, 12, 878]|609681|                en|    The Marvels|Carol Danvers, ak...|     732.498|/Ag3D9qXjhJ2FUkrl...|2023-11-08|The Marvels|false| 6.5|  387|\n",
      "+-------+---------+---------+------+--------------------+-------------+------+------------------+---------------+--------------------+------------+--------------------+----------+-----------+-----+----+-----+\n",
      "only showing top 1 row\n",
      "\n"
     ]
    }
   ],
   "source": [
    "teste = spark.read.format(\"parquet\").load(\"completo.parquet\")\n",
    "teste.show(1)"
   ]
  },
  {
   "cell_type": "code",
   "execution_count": null,
   "id": "4987a660",
   "metadata": {},
   "outputs": [],
   "source": []
  }
 ],
 "metadata": {
  "kernelspec": {
   "display_name": "Python 3 (ipykernel)",
   "language": "python",
   "name": "python3"
  },
  "language_info": {
   "codemirror_mode": {
    "name": "ipython",
    "version": 3
   },
   "file_extension": ".py",
   "mimetype": "text/x-python",
   "name": "python",
   "nbconvert_exporter": "python",
   "pygments_lexer": "ipython3",
   "version": "3.11.4"
  }
 },
 "nbformat": 4,
 "nbformat_minor": 5
}
