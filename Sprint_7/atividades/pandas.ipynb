{
 "cells": [
  {
   "cell_type": "markdown",
   "id": "b628872a",
   "metadata": {},
   "source": [
    "# Tarefa: Python com Pandas e Numpy\n"
   ]
  },
  {
   "cell_type": "code",
   "execution_count": 2,
   "id": "27cf6336",
   "metadata": {},
   "outputs": [],
   "source": [
    "import pandas as pd"
   ]
  },
  {
   "cell_type": "code",
   "execution_count": 3,
   "id": "d866de05",
   "metadata": {},
   "outputs": [],
   "source": [
    "atores = pd.read_csv(\"actors.csv\")"
   ]
  },
  {
   "cell_type": "markdown",
   "id": "7d449820",
   "metadata": {},
   "source": [
    "### 1. Identifique o ator/atriz com maior número de filmes e o respectivo número de filmes."
   ]
  },
  {
   "cell_type": "code",
   "execution_count": 4,
   "id": "d582c2c0",
   "metadata": {},
   "outputs": [
    {
     "name": "stdout",
     "output_type": "stream",
     "text": [
      "Robert DeNiro 79\n"
     ]
    }
   ],
   "source": [
    "numero_filmes = atores.loc[atores[\"Number of Movies\"].idxmax()]\n",
    "print(numero_filmes[\"Actor\"], numero_filmes[\"Number of Movies\"])"
   ]
  },
  {
   "cell_type": "markdown",
   "id": "0e939e41",
   "metadata": {},
   "source": [
    "### 2. Apresente a média da coluna contendo o número de filmes."
   ]
  },
  {
   "cell_type": "code",
   "execution_count": 5,
   "id": "2c524839",
   "metadata": {},
   "outputs": [
    {
     "data": {
      "text/plain": [
       "37.88"
      ]
     },
     "execution_count": 5,
     "metadata": {},
     "output_type": "execute_result"
    }
   ],
   "source": [
    "media = atores[\"Number of Movies\"].mean()\n",
    "media"
   ]
  },
  {
   "cell_type": "markdown",
   "id": "d42d0fc2",
   "metadata": {},
   "source": [
    "### 3. Apresente o nome do ator/atriz com a maior média por filme."
   ]
  },
  {
   "cell_type": "code",
   "execution_count": 6,
   "id": "00609384",
   "metadata": {},
   "outputs": [
    {
     "name": "stdout",
     "output_type": "stream",
     "text": [
      "Anthony Daniels\n"
     ]
    }
   ],
   "source": [
    "ator_maior = atores.loc[atores[\"Average per Movie\"].idxmax()]\n",
    "print(ator_maior[\"Actor\"])"
   ]
  },
  {
   "cell_type": "markdown",
   "id": "2b925ee0",
   "metadata": {},
   "source": [
    "### 4. Apresente o nome do(s) filme(s) mais frequente(s) e sua respectiva frequência."
   ]
  },
  {
   "cell_type": "code",
   "execution_count": 7,
   "id": "4a3cde1d",
   "metadata": {},
   "outputs": [
    {
     "name": "stdout",
     "output_type": "stream",
     "text": [
      "Filme: The Avengers Frequencia: 6\n"
     ]
    }
   ],
   "source": [
    "frequencia = atores[\"#1 Movie\"].value_counts()\n",
    "nome_filme = frequencia.index.tolist()\n",
    "freq_filme = frequencia.values.tolist()\n",
    "nome_filme[0], freq_filme[0]\n",
    "print(\"Filme:\",nome_filme[0], \"Frequencia:\",freq_filme[0])"
   ]
  },
  {
   "cell_type": "code",
   "execution_count": null,
   "id": "327ef9b6",
   "metadata": {},
   "outputs": [],
   "source": []
  },
  {
   "cell_type": "code",
   "execution_count": null,
   "id": "8deedb8f",
   "metadata": {},
   "outputs": [],
   "source": []
  }
 ],
 "metadata": {
  "kernelspec": {
   "display_name": "Python 3 (ipykernel)",
   "language": "python",
   "name": "python3"
  },
  "language_info": {
   "codemirror_mode": {
    "name": "ipython",
    "version": 3
   },
   "file_extension": ".py",
   "mimetype": "text/x-python",
   "name": "python",
   "nbconvert_exporter": "python",
   "pygments_lexer": "ipython3",
   "version": "3.11.4"
  }
 },
 "nbformat": 4,
 "nbformat_minor": 5
}
