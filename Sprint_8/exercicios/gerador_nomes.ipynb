{
 "cells": [
  {
   "cell_type": "code",
   "execution_count": 63,
   "id": "00f4d6b5",
   "metadata": {},
   "outputs": [
    {
     "name": "stdout",
     "output_type": "stream",
     "text": [
      "Requirement already satisfied: names in c:\\users\\victo\\anaconda3\\lib\\site-packages (0.3.0)\n",
      "Note: you may need to restart the kernel to use updated packages.\n"
     ]
    }
   ],
   "source": [
    "pip install names"
   ]
  },
  {
   "cell_type": "code",
   "execution_count": 64,
   "id": "eb488f19",
   "metadata": {},
   "outputs": [],
   "source": [
    "import names\n",
    "from datetime import time\n",
    "import random"
   ]
  },
  {
   "cell_type": "code",
   "execution_count": 58,
   "id": "9d6569e6",
   "metadata": {},
   "outputs": [],
   "source": [
    "random.seed(40)\n",
    "qtd_nomes_unicos = 3000\n",
    "qtd_nomes_aleatorios=10000000"
   ]
  },
  {
   "cell_type": "code",
   "execution_count": 65,
   "id": "992290bc",
   "metadata": {},
   "outputs": [],
   "source": [
    "aux=[]\n",
    "for i in range(0, qtd_nomes_unicos):\n",
    "    aux.append(names.get_full_name())\n",
    "    \n",
    "    "
   ]
  },
  {
   "cell_type": "code",
   "execution_count": 66,
   "id": "1508d5ff",
   "metadata": {},
   "outputs": [],
   "source": [
    "dados=[]\n",
    "for i in range(0,qtd_nomes_aleatorios):\n",
    "    dados.append(random.choice(aux))\n",
    "    \n"
   ]
  },
  {
   "cell_type": "code",
   "execution_count": 67,
   "id": "86d048d5",
   "metadata": {},
   "outputs": [],
   "source": [
    "arquivo2 = open('nomes_aleatorios.txt','w')\n",
    "lista=()\n",
    "for i in dados:\n",
    "    lista=i\n",
    "    print(lista,file=arquivo)"
   ]
  },
  {
   "cell_type": "code",
   "execution_count": null,
   "id": "883ad60b",
   "metadata": {},
   "outputs": [],
   "source": []
  }
 ],
 "metadata": {
  "kernelspec": {
   "display_name": "Python 3 (ipykernel)",
   "language": "python",
   "name": "python3"
  },
  "language_info": {
   "codemirror_mode": {
    "name": "ipython",
    "version": 3
   },
   "file_extension": ".py",
   "mimetype": "text/x-python",
   "name": "python",
   "nbconvert_exporter": "python",
   "pygments_lexer": "ipython3",
   "version": "3.11.4"
  }
 },
 "nbformat": 4,
 "nbformat_minor": 5
}
