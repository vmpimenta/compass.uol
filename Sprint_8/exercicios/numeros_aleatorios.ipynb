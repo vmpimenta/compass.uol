{
 "cells": [
  {
   "cell_type": "markdown",
   "id": "26eaf344",
   "metadata": {},
   "source": [
    "[Warm up]  Em Python, declare e inicialize uma lista contendo 250 inteiros obtidos de forma aleatória. Após, aplicar o método reverse sobre o conteúdo da lista e imprimir o resultado."
   ]
  },
  {
   "cell_type": "code",
   "execution_count": 25,
   "id": "7ae52a2b",
   "metadata": {},
   "outputs": [
    {
     "name": "stdout",
     "output_type": "stream",
     "text": [
      "[250, 834, 435, 63, 137, 73, 124, 42, 916, 235, 245, 694, 489, 176, 585, 484, 370, 37, 398, 940, 15, 59, 217, 714, 486, 661, 449, 198, 864, 50, 711, 980, 71, 737, 320, 472, 924, 710, 849, 719, 279, 982, 78, 670, 185, 556, 631, 467, 77, 187, 219, 868, 741, 1, 173, 399, 265, 437, 674, 673, 666, 818, 657, 943, 300, 389, 557, 33, 894, 745, 904, 385, 216, 889, 150, 507, 646, 340, 109, 645, 729, 434, 407, 823, 278, 43, 68, 690, 382, 372, 116, 471, 119, 344, 427, 248, 123, 693, 312, 110, 750, 108, 925, 648, 509, 634, 440, 625, 289, 368, 650, 359, 601, 947, 297, 212, 7, 495, 242, 941, 274, 422, 367, 397, 736, 857, 5, 112, 421, 668, 53, 614, 833, 18, 851, 797, 555, 863, 6, 280, 689, 293, 527, 165, 199, 901, 618, 67, 616, 609, 893, 353, 528, 264, 447, 530, 683, 794, 504, 272, 595, 760, 592, 183, 600, 676, 824, 152, 914, 727, 8, 70, 52, 361, 480, 177, 962, 375, 990, 978, 500, 859, 744, 47, 931, 416, 815, 268, 706, 981, 642, 371, 886, 992, 17, 475, 972, 429, 656, 610, 705, 552, 543, 769, 330, 622, 891, 452, 525, 939, 496, 571, 476, 532, 205, 60, 546, 106, 573, 586, 938, 539, 188, 707, 548, 742, 313, 979, 277, 574, 567, 111, 174, 644, 426, 837, 506, 246, 491, 97, 499, 526, 469, 696, 791, 281, 740, 896, 776, 39]\n"
     ]
    }
   ],
   "source": [
    "import random \n",
    "\n",
    "res = random.sample(range(0,1000), 250)\n",
    "\n",
    "res.reverse() \n",
    "print(res)\n"
   ]
  },
  {
   "cell_type": "code",
   "execution_count": null,
   "id": "5e59b5d9",
   "metadata": {},
   "outputs": [],
   "source": []
  },
  {
   "cell_type": "markdown",
   "id": "c499e573",
   "metadata": {},
   "source": [
    "[Warm up] Em Python, declare e inicialize uma lista contendo o nome de 20 animais. Ordene-os em ordem crescente e itere sobre os itens, imprimindo um a um (você pode utilizar list comprehension aqui).  Na sequência, armazene o conteúdo da lista em um arquivo de texto, um item em cada linha, no formato CSV."
   ]
  },
  {
   "cell_type": "markdown",
   "id": "ea6f6557",
   "metadata": {},
   "source": [
    "Exemplo de outro colega"
   ]
  },
  {
   "cell_type": "code",
   "execution_count": 24,
   "id": "fc842bd7",
   "metadata": {},
   "outputs": [
    {
     "name": "stdout",
     "output_type": "stream",
     "text": [
      "[824, 978, 471, 934, 932, 800, 606, 718, 892, 414, 430, 332, 305, 124, 589, 848, 309, 51, 66, 541, 320, 311, 498, 232, 238, 520, 231, 332, 608, 538, 949, 833, 513, 896, 508, 118, 6, 831, 899, 783, 406, 936, 936, 479, 435, 708, 39, 312, 165, 408, 543, 465, 988, 851, 584, 638, 739, 395, 443, 955, 940, 468, 909, 881, 639, 120, 502, 145, 491, 291, 993, 472, 861, 828, 65, 232, 891, 913, 49, 860, 593, 412, 798, 767, 333, 345, 363, 616, 496, 165, 71, 56, 754, 733, 515, 541, 147, 21, 370, 906, 924, 363, 997, 976, 116, 757, 11, 581, 188, 887, 323, 938, 173, 814, 365, 290, 81, 543, 423, 323, 998, 375, 47, 487, 291, 503, 937, 740, 672, 293, 376, 918, 152, 67, 180, 646, 503, 427, 827, 429, 341, 27, 447, 565, 326, 308, 202, 3, 65, 53, 778, 495, 103, 551, 752, 141, 628, 621, 752, 662, 517, 712, 132, 285, 891, 283, 660, 591, 324, 566, 282, 128, 14, 841, 757, 686, 950, 798, 543, 491, 637, 768, 136, 156, 942, 934, 504, 140, 713, 816, 586, 667, 761, 650, 714, 958, 553, 301, 639, 559, 586, 617, 957, 705, 922, 878, 751, 775, 647, 911, 779, 644, 216, 775, 559, 850, 592, 85, 143, 664, 907, 195, 794, 532, 876, 620, 76, 13, 558, 502, 485, 838, 573, 724, 374, 831, 521, 330, 465, 497, 851, 107, 244, 193, 392, 944, 741, 789, 690, 297]\n"
     ]
    }
   ],
   "source": [
    "import random\n",
    "lista = [random.randint(0,1000)for i in range(250)]\n",
    "lista.reverse()\n",
    "print(lista)"
   ]
  },
  {
   "cell_type": "code",
   "execution_count": null,
   "id": "374d104b",
   "metadata": {},
   "outputs": [],
   "source": []
  }
 ],
 "metadata": {
  "kernelspec": {
   "display_name": "Python 3 (ipykernel)",
   "language": "python",
   "name": "python3"
  },
  "language_info": {
   "codemirror_mode": {
    "name": "ipython",
    "version": 3
   },
   "file_extension": ".py",
   "mimetype": "text/x-python",
   "name": "python",
   "nbconvert_exporter": "python",
   "pygments_lexer": "ipython3",
   "version": "3.11.4"
  }
 },
 "nbformat": 4,
 "nbformat_minor": 5
}
