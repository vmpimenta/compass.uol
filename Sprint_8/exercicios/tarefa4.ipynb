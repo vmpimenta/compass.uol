{
 "cells": [
  {
   "cell_type": "code",
   "execution_count": 15,
   "id": "430f52f4",
   "metadata": {},
   "outputs": [],
   "source": [
    "import findspark\n",
    "findspark.init()\n",
    "import pyspark\n",
    "from pyspark import SparkContext, SQLContext\n"
   ]
  },
  {
   "cell_type": "code",
   "execution_count": 16,
   "id": "005cdfce",
   "metadata": {},
   "outputs": [],
   "source": [
    "spark = SparkSession.builder.master(\"local[*]\").appName(\"ExercicioIntro\").getOrCreate()"
   ]
  },
  {
   "cell_type": "code",
   "execution_count": 17,
   "id": "421c14ab",
   "metadata": {},
   "outputs": [],
   "source": [
    "df_nomes = spark.read.csv(\"nomes_aleatorios.txt\")"
   ]
  },
  {
   "cell_type": "code",
   "execution_count": 35,
   "id": "7f895904",
   "metadata": {},
   "outputs": [
    {
     "name": "stdout",
     "output_type": "stream",
     "text": [
      "+----------------+\n",
      "|             _c0|\n",
      "+----------------+\n",
      "|  Frances Bennet|\n",
      "|   Jamie Russell|\n",
      "|  Edward Kistler|\n",
      "|   Sheila Maurer|\n",
      "|Donald Golightly|\n",
      "+----------------+\n",
      "only showing top 5 rows\n",
      "\n"
     ]
    }
   ],
   "source": [
    "df_nomes.show(5)"
   ]
  },
  {
   "cell_type": "code",
   "execution_count": 11,
   "id": "ea3d1681",
   "metadata": {},
   "outputs": [
    {
     "name": "stdout",
     "output_type": "stream",
     "text": [
      "root\n",
      " |-- _c0: string (nullable = true)\n",
      "\n"
     ]
    }
   ],
   "source": [
    "df_nomes.printSchema()  "
   ]
  },
  {
   "cell_type": "code",
   "execution_count": 120,
   "id": "8d0155aa",
   "metadata": {},
   "outputs": [
    {
     "name": "stdout",
     "output_type": "stream",
     "text": [
      "+-----------------+\n",
      "|            Nomes|\n",
      "+-----------------+\n",
      "|   Frances Bennet|\n",
      "|    Jamie Russell|\n",
      "|   Edward Kistler|\n",
      "|    Sheila Maurer|\n",
      "| Donald Golightly|\n",
      "|       David Gray|\n",
      "|      Joy Bennett|\n",
      "|      Paul Kriese|\n",
      "|Berniece Ornellas|\n",
      "|    Brian Farrell|\n",
      "+-----------------+\n",
      "only showing top 10 rows\n",
      "\n"
     ]
    }
   ],
   "source": [
    "df_nomes = spark.read.csv(\"nomes_aleatorios.txt\", header=False)\n",
    "\n",
    "df_nomes = df_nomes.withColumnRenamed(\"_c0\", \"Nomes\")\n",
    "\n",
    "df_nomes.show(10)"
   ]
  },
  {
   "cell_type": "code",
   "execution_count": 121,
   "id": "ebbc4985",
   "metadata": {},
   "outputs": [
    {
     "name": "stdout",
     "output_type": "stream",
     "text": [
      "+-----------------+------------+\n",
      "|            Nomes|Escolaridade|\n",
      "+-----------------+------------+\n",
      "|   Frances Bennet| Fundamental|\n",
      "|    Jamie Russell|       Medio|\n",
      "|   Edward Kistler|       Medio|\n",
      "|    Sheila Maurer|       Medio|\n",
      "| Donald Golightly|       Medio|\n",
      "|       David Gray|    Superior|\n",
      "|      Joy Bennett|       Medio|\n",
      "|      Paul Kriese| Fundamental|\n",
      "|Berniece Ornellas| Fundamental|\n",
      "|    Brian Farrell| Fundamental|\n",
      "|   Kara Mcelwaine|       Medio|\n",
      "|    Tracy Herring|    Superior|\n",
      "|  Howard Lazarine|       Medio|\n",
      "|     Leroy Strahl|    Superior|\n",
      "|     Ernest Hulet|    Superior|\n",
      "|     David Medina|    Superior|\n",
      "|   Lorenzo Woodis|    Superior|\n",
      "|      Page Marthe| Fundamental|\n",
      "|   Herbert Morris|       Medio|\n",
      "|      Albert Leef|    Superior|\n",
      "+-----------------+------------+\n",
      "only showing top 20 rows\n",
      "\n"
     ]
    }
   ],
   "source": [
    "from pyspark.sql.functions import * \n",
    "from pyspark.sql.functions import when\n",
    "from pyspark.sql.functions import rand\n",
    "\n",
    "\n",
    "df_nomes = df_nomes.withColumn(\"Escolaridade\", when(rand() < 0.33, \"Fundamental\")\n",
    "                           .when(rand() < 0.66, \"Medio\")\n",
    "                           .otherwise(\"Superior\"))\n",
    "\n",
    "df_nomes.show()"
   ]
  },
  {
   "cell_type": "code",
   "execution_count": 122,
   "id": "73a5a3f2",
   "metadata": {},
   "outputs": [
    {
     "name": "stdout",
     "output_type": "stream",
     "text": [
      "+-----------------+------------+---------+\n",
      "|            Nomes|Escolaridade|     Pais|\n",
      "+-----------------+------------+---------+\n",
      "|   Frances Bennet| Fundamental|Venezuela|\n",
      "|    Jamie Russell|       Medio| Colômbia|\n",
      "|   Edward Kistler|       Medio|   Brasil|\n",
      "|    Sheila Maurer|       Medio|   Brasil|\n",
      "| Donald Golightly|       Medio|  Equador|\n",
      "|       David Gray|    Superior|Argentina|\n",
      "|      Joy Bennett|       Medio|Venezuela|\n",
      "|      Paul Kriese| Fundamental|  Equador|\n",
      "|Berniece Ornellas| Fundamental|Venezuela|\n",
      "|    Brian Farrell| Fundamental|    Chile|\n",
      "|   Kara Mcelwaine|       Medio|     Peru|\n",
      "|    Tracy Herring|    Superior|     Peru|\n",
      "|  Howard Lazarine|       Medio| Colômbia|\n",
      "|     Leroy Strahl|    Superior|  Bolívia|\n",
      "|     Ernest Hulet|    Superior|Argentina|\n",
      "|     David Medina|    Superior|    Chile|\n",
      "|   Lorenzo Woodis|    Superior|    Chile|\n",
      "|      Page Marthe| Fundamental|Venezuela|\n",
      "|   Herbert Morris|       Medio|     Peru|\n",
      "|      Albert Leef|    Superior|Argentina|\n",
      "+-----------------+------------+---------+\n",
      "only showing top 20 rows\n",
      "\n"
     ]
    }
   ],
   "source": [
    "paises = [\"Brasil\", \"Argentina\", \"Colômbia\", \"Chile\", \"Peru\", \"Venezuela\", \"Equador\", \"Bolívia\", \"Paraguai\", \"Uruguai\", \"Guiana\", \"Suriname\", \"Guiana Francesa\"]\n",
    "\n",
    "df_nomes = df_nomes.withColumn(\"Pais\", when(rand() < 1/13, paises[0])\n",
    "                                .when(rand() < 2/13, paises[1])\n",
    "                                .when(rand() < 3/13, paises[2])\n",
    "                                .when(rand() < 4/13, paises[3])\n",
    "                                .when(rand() < 5/13, paises[4])\n",
    "                                .when(rand() < 6/13, paises[5])\n",
    "                                .when(rand() < 7/13, paises[6])\n",
    "                                .when(rand() < 8/13, paises[7])\n",
    "                                .when(rand() < 9/13, paises[8])\n",
    "                                .when(rand() < 10/13, paises[9])\n",
    "                                .when(rand() < 11/13, paises[10])\n",
    "                                .when(rand() < 12/13, paises[11])\n",
    "                                .otherwise(paises[12]))\n",
    "\n",
    "df_nomes.show()"
   ]
  },
  {
   "cell_type": "code",
   "execution_count": 123,
   "id": "8697b4f8",
   "metadata": {},
   "outputs": [
    {
     "name": "stdout",
     "output_type": "stream",
     "text": [
      "+-----------------+------------+---------+-------------+\n",
      "|            Nomes|Escolaridade|     Pais|AnoNascimento|\n",
      "+-----------------+------------+---------+-------------+\n",
      "|   Frances Bennet| Fundamental|Venezuela|         1990|\n",
      "|    Jamie Russell|       Medio| Colômbia|         1963|\n",
      "|   Edward Kistler|       Medio|   Brasil|         1985|\n",
      "|    Sheila Maurer|       Medio|   Brasil|         1969|\n",
      "| Donald Golightly|       Medio|  Equador|         1973|\n",
      "|       David Gray|    Superior|Argentina|         1951|\n",
      "|      Joy Bennett|       Medio|Venezuela|         1959|\n",
      "|      Paul Kriese| Fundamental|  Equador|         1963|\n",
      "|Berniece Ornellas| Fundamental|Venezuela|         1946|\n",
      "|    Brian Farrell| Fundamental|    Chile|         1999|\n",
      "|   Kara Mcelwaine|       Medio|     Peru|         1956|\n",
      "|    Tracy Herring|    Superior|     Peru|         2000|\n",
      "|  Howard Lazarine|       Medio| Colômbia|         1981|\n",
      "|     Leroy Strahl|    Superior|  Bolívia|         1980|\n",
      "|     Ernest Hulet|    Superior|Argentina|         1978|\n",
      "|     David Medina|    Superior|    Chile|         2006|\n",
      "|   Lorenzo Woodis|    Superior|    Chile|         1979|\n",
      "|      Page Marthe| Fundamental|Venezuela|         1947|\n",
      "|   Herbert Morris|       Medio|     Peru|         1983|\n",
      "|      Albert Leef|    Superior|Argentina|         1993|\n",
      "+-----------------+------------+---------+-------------+\n",
      "only showing top 20 rows\n",
      "\n"
     ]
    }
   ],
   "source": [
    "df_nomes = df_nomes.withColumn(\"AnoNascimento\", (1945 + (rand() * (2010 - 1945))).cast('int'))\n",
    "\n",
    "df_nomes.show()"
   ]
  },
  {
   "cell_type": "code",
   "execution_count": 124,
   "id": "f216ce60",
   "metadata": {},
   "outputs": [
    {
     "name": "stdout",
     "output_type": "stream",
     "text": [
      "+----------------+\n",
      "|           Nomes|\n",
      "+----------------+\n",
      "|   Tracy Herring|\n",
      "|    David Medina|\n",
      "| Helen Blackwell|\n",
      "|    Rebecca Snow|\n",
      "|  Mary Dillahunt|\n",
      "|   Ricky Gilbert|\n",
      "|      Ned Tester|\n",
      "|    James Barton|\n",
      "|  Ashley Trosper|\n",
      "|Richelle Vasquez|\n",
      "+----------------+\n",
      "only showing top 10 rows\n",
      "\n"
     ]
    }
   ],
   "source": [
    "df_select = df_nomes.select(\"Nomes\").filter((df_nomes.AnoNascimento >= 2000))\n",
    "\n",
    "df_select.show(10)"
   ]
  },
  {
   "cell_type": "code",
   "execution_count": 203,
   "id": "3ebfbe62",
   "metadata": {},
   "outputs": [
    {
     "name": "stdout",
     "output_type": "stream",
     "text": [
      "+----------------+\n",
      "|           Nomes|\n",
      "+----------------+\n",
      "|   Tracy Herring|\n",
      "|    David Medina|\n",
      "| Helen Blackwell|\n",
      "|    Rebecca Snow|\n",
      "|  Mary Dillahunt|\n",
      "|   Ricky Gilbert|\n",
      "|      Ned Tester|\n",
      "|    James Barton|\n",
      "|  Ashley Trosper|\n",
      "|Richelle Vasquez|\n",
      "+----------------+\n",
      "only showing top 10 rows\n",
      "\n"
     ]
    }
   ],
   "source": [
    "df_nomes.createOrReplaceTempView (\"Nomes\")\n",
    "\n",
    "spark.sql(\"select Nomes from Nomes where AnoNascimento >=2000\").show(10)"
   ]
  },
  {
   "cell_type": "code",
   "execution_count": 126,
   "id": "55555588",
   "metadata": {},
   "outputs": [
    {
     "name": "stdout",
     "output_type": "stream",
     "text": [
      "2309807\n"
     ]
    }
   ],
   "source": [
    "count_millennials = df_nomes.select(\"Nomes\").filter((df_nomes.AnoNascimento >= 1980) & (df_nomes.AnoNascimento <= 1994)).count()\n",
    "\n",
    "print(count_millennials)"
   ]
  },
  {
   "cell_type": "code",
   "execution_count": 204,
   "id": "aa9570b0",
   "metadata": {},
   "outputs": [
    {
     "name": "stdout",
     "output_type": "stream",
     "text": [
      "+-----------+\n",
      "|MILLENNIALS|\n",
      "+-----------+\n",
      "|    2309807|\n",
      "+-----------+\n",
      "\n"
     ]
    }
   ],
   "source": [
    "spark.sql(\"select count(*) as MILLENNIALS FROM Nomes WHERE AnoNascimento BETWEEN 1980 AND 1994\").show()"
   ]
  },
  {
   "cell_type": "code",
   "execution_count": 182,
   "id": "560b1c90",
   "metadata": {},
   "outputs": [
    {
     "name": "stdout",
     "output_type": "stream",
     "text": [
      "+---------------+------+---------+\n",
      "|           Pais| TOTAL| Geracoes|\n",
      "+---------------+------+---------+\n",
      "|      Argentina|327376|GERACAO Z|\n",
      "|           Peru|369116|GERACAO Z|\n",
      "|         Guiana|  3337|GERACAO Z|\n",
      "|          Chile|426219|GERACAO Z|\n",
      "|       Suriname|   601|GERACAO Z|\n",
      "|       Paraguai| 38828|GERACAO Z|\n",
      "|Guiana Francesa|    47|GERACAO Z|\n",
      "|        Equador|171868|GERACAO Z|\n",
      "|        Uruguai| 13573|GERACAO Z|\n",
      "|      Venezuela|272989|GERACAO Z|\n",
      "|        Bolívia| 90469|GERACAO Z|\n",
      "|         Brasil|177678|GERACAO Z|\n",
      "|       Colômbia|416663|GERACAO Z|\n",
      "+---------------+------+---------+\n",
      "\n"
     ]
    }
   ],
   "source": [
    "geracao_Z = spark.sql(\"select Pais, count(*) as TOTAL_Z FROM Nomes WHERE AnoNascimento BETWEEN 1995 AND 2015 GROUP BY Pais\")\n",
    "\n",
    "geracao_Z = geracao_Z.withColumn(\"Geracoes\", lit(\"GERACAO Z\"))\n",
    "\n",
    "geracao_Z.show()"
   ]
  },
  {
   "cell_type": "code",
   "execution_count": 183,
   "id": "73192721",
   "metadata": {},
   "outputs": [
    {
     "name": "stdout",
     "output_type": "stream",
     "text": [
      "+---------------+------+---------+\n",
      "|           Pais| TOTAL| Geracoes|\n",
      "+---------------+------+---------+\n",
      "|      Argentina|327123|GERACAO X|\n",
      "|           Peru|369115|GERACAO X|\n",
      "|         Guiana|  3332|GERACAO X|\n",
      "|          Chile|426365|GERACAO X|\n",
      "|       Suriname|   592|GERACAO X|\n",
      "|       Paraguai| 38763|GERACAO X|\n",
      "|Guiana Francesa|    45|GERACAO X|\n",
      "|        Equador|171298|GERACAO X|\n",
      "|        Uruguai| 13256|GERACAO X|\n",
      "|      Venezuela|271805|GERACAO X|\n",
      "|        Bolívia| 90409|GERACAO X|\n",
      "|         Brasil|177095|GERACAO X|\n",
      "|       Colômbia|416128|GERACAO X|\n",
      "+---------------+------+---------+\n",
      "\n"
     ]
    }
   ],
   "source": [
    "geracao_X = spark.sql(\"select Pais, count(*) as TOTAL_X FROM Nomes WHERE AnoNascimento BETWEEN 1965 AND 1979 GROUP BY Pais\")\n",
    "\n",
    "geracao_X = geracao_X.withColumn(\"Geracoes\", lit(\"GERACAO X\"))\n",
    "\n",
    "geracao_X.show()"
   ]
  },
  {
   "cell_type": "code",
   "execution_count": 184,
   "id": "1bff4bbe",
   "metadata": {},
   "outputs": [
    {
     "name": "stdout",
     "output_type": "stream",
     "text": [
      "+---------------+------+------------+\n",
      "|           Pais| TOTAL|    Geracoes|\n",
      "+---------------+------+------------+\n",
      "|      Argentina|436665|BABY BOOMERS|\n",
      "|           Peru|492582|BABY BOOMERS|\n",
      "|         Guiana|  4447|BABY BOOMERS|\n",
      "|          Chile|568606|BABY BOOMERS|\n",
      "|       Suriname|   744|BABY BOOMERS|\n",
      "|       Paraguai| 52226|BABY BOOMERS|\n",
      "|Guiana Francesa|    54|BABY BOOMERS|\n",
      "|        Equador|228934|BABY BOOMERS|\n",
      "|        Uruguai| 17827|BABY BOOMERS|\n",
      "|      Venezuela|363341|BABY BOOMERS|\n",
      "|        Bolívia|120463|BABY BOOMERS|\n",
      "|         Brasil|237200|BABY BOOMERS|\n",
      "|       Colômbia|553014|BABY BOOMERS|\n",
      "+---------------+------+------------+\n",
      "\n"
     ]
    }
   ],
   "source": [
    "BB = spark.sql(\"select Pais, count(*) as TOTAL_BB FROM Nomes WHERE AnoNascimento BETWEEN 1944 AND 1964 GROUP BY Pais\")\n",
    "\n",
    "BB = BB.withColumn(\"Geracoes\", lit(\"BABY BOOMERS\"))\n",
    "\n",
    "BB.show()"
   ]
  },
  {
   "cell_type": "code",
   "execution_count": 185,
   "id": "6e674515",
   "metadata": {},
   "outputs": [
    {
     "name": "stdout",
     "output_type": "stream",
     "text": [
      "+---------------+------+-----------+\n",
      "|           Pais| TOTAL|   Geracoes|\n",
      "+---------------+------+-----------+\n",
      "|      Argentina|327962|MILLENNIALS|\n",
      "|           Peru|370268|MILLENNIALS|\n",
      "|         Guiana|  3405|MILLENNIALS|\n",
      "|          Chile|427353|MILLENNIALS|\n",
      "|       Suriname|   587|MILLENNIALS|\n",
      "|       Paraguai| 39455|MILLENNIALS|\n",
      "|Guiana Francesa|    38|MILLENNIALS|\n",
      "|        Equador|171212|MILLENNIALS|\n",
      "|        Uruguai| 13275|MILLENNIALS|\n",
      "|      Venezuela|272670|MILLENNIALS|\n",
      "|        Bolívia| 90102|MILLENNIALS|\n",
      "|         Brasil|177079|MILLENNIALS|\n",
      "|       Colômbia|416401|MILLENNIALS|\n",
      "+---------------+------+-----------+\n",
      "\n"
     ]
    }
   ],
   "source": [
    "Millennials = spark.sql(\"select Pais, count(*) as TOTAL_M FROM Nomes WHERE AnoNascimento BETWEEN 1980 AND 1994 GROUP BY Pais\")\n",
    "\n",
    "Millennials = Millennials.withColumn(\"Geracoes\", lit(\"MILLENNIALS\"))\n",
    "\n",
    "Millennials.show()"
   ]
  },
  {
   "cell_type": "code",
   "execution_count": 193,
   "id": "c6dec5cb",
   "metadata": {},
   "outputs": [
    {
     "name": "stdout",
     "output_type": "stream",
     "text": [
      "+---------------+------+---------+\n",
      "|           Pais| TOTAL| Geracoes|\n",
      "+---------------+------+---------+\n",
      "|      Argentina|327376|GERACAO Z|\n",
      "|           Peru|369116|GERACAO Z|\n",
      "|         Guiana|  3337|GERACAO Z|\n",
      "|          Chile|426219|GERACAO Z|\n",
      "|       Suriname|   601|GERACAO Z|\n",
      "|       Paraguai| 38828|GERACAO Z|\n",
      "|Guiana Francesa|    47|GERACAO Z|\n",
      "|        Equador|171868|GERACAO Z|\n",
      "|        Uruguai| 13573|GERACAO Z|\n",
      "|      Venezuela|272989|GERACAO Z|\n",
      "|        Bolívia| 90469|GERACAO Z|\n",
      "|         Brasil|177678|GERACAO Z|\n",
      "|       Colômbia|416663|GERACAO Z|\n",
      "|      Argentina|327123|GERACAO X|\n",
      "|           Peru|369115|GERACAO X|\n",
      "|         Guiana|  3332|GERACAO X|\n",
      "|          Chile|426365|GERACAO X|\n",
      "|       Suriname|   592|GERACAO X|\n",
      "|       Paraguai| 38763|GERACAO X|\n",
      "|Guiana Francesa|    45|GERACAO X|\n",
      "+---------------+------+---------+\n",
      "only showing top 20 rows\n",
      "\n"
     ]
    }
   ],
   "source": [
    "j1 = geracao_Z.union(geracao_X)\n",
    "j2 = Millennials.union(BB)\n",
    "j3 = j1.union(j2)\n",
    "\n",
    "j3.show()"
   ]
  },
  {
   "cell_type": "code",
   "execution_count": 194,
   "id": "d2644231",
   "metadata": {},
   "outputs": [
    {
     "name": "stdout",
     "output_type": "stream",
     "text": [
      "+---------------+------+---------+\n",
      "|           Pais| TOTAL| Geracoes|\n",
      "+---------------+------+---------+\n",
      "|      Argentina|327376|GERACAO Z|\n",
      "|           Peru|369116|GERACAO Z|\n",
      "|         Guiana|  3337|GERACAO Z|\n",
      "|          Chile|426219|GERACAO Z|\n",
      "|       Suriname|   601|GERACAO Z|\n",
      "|       Paraguai| 38828|GERACAO Z|\n",
      "|Guiana Francesa|    47|GERACAO Z|\n",
      "|        Equador|171868|GERACAO Z|\n",
      "|        Uruguai| 13573|GERACAO Z|\n",
      "|      Venezuela|272989|GERACAO Z|\n",
      "+---------------+------+---------+\n",
      "only showing top 10 rows\n",
      "\n"
     ]
    }
   ],
   "source": [
    "j3.createOrReplaceTempView (\"Total\")\n",
    "\n",
    "spark.sql(\"select * from Total\").show(10)"
   ]
  },
  {
   "cell_type": "code",
   "execution_count": 197,
   "id": "fcf69220",
   "metadata": {},
   "outputs": [
    {
     "name": "stdout",
     "output_type": "stream",
     "text": [
      "+---------+------+------------+\n",
      "|     Pais| TOTAL|    Geracoes|\n",
      "+---------+------+------------+\n",
      "|Argentina|436665|BABY BOOMERS|\n",
      "|Argentina|327123|   GERACAO X|\n",
      "|Argentina|327376|   GERACAO Z|\n",
      "|Argentina|327962| MILLENNIALS|\n",
      "|  Bolívia|120463|BABY BOOMERS|\n",
      "|  Bolívia| 90409|   GERACAO X|\n",
      "|  Bolívia| 90469|   GERACAO Z|\n",
      "|  Bolívia| 90102| MILLENNIALS|\n",
      "|   Brasil|237200|BABY BOOMERS|\n",
      "|   Brasil|177095|   GERACAO X|\n",
      "|   Brasil|177678|   GERACAO Z|\n",
      "|   Brasil|177079| MILLENNIALS|\n",
      "|    Chile|568606|BABY BOOMERS|\n",
      "|    Chile|426365|   GERACAO X|\n",
      "|    Chile|426219|   GERACAO Z|\n",
      "|    Chile|427353| MILLENNIALS|\n",
      "| Colômbia|553014|BABY BOOMERS|\n",
      "| Colômbia|416128|   GERACAO X|\n",
      "| Colômbia|416663|   GERACAO Z|\n",
      "| Colômbia|416401| MILLENNIALS|\n",
      "+---------+------+------------+\n",
      "only showing top 20 rows\n",
      "\n"
     ]
    }
   ],
   "source": [
    "j3 = spark.sql(\"SELECT * FROM Total ORDER BY Pais, Geracoes, Total\")\n",
    "j3.show()"
   ]
  },
  {
   "cell_type": "code",
   "execution_count": 14,
   "id": "70df63bc",
   "metadata": {},
   "outputs": [],
   "source": [
    "from pyspark.context import SparkContext\n",
    "from pyspark.sql.session import SparkSession\n",
    "sc = SparkContext.getOrCreate()\n",
    "spark = SparkSession(sc)\n",
    "spark.stop()"
   ]
  },
  {
   "cell_type": "code",
   "execution_count": null,
   "id": "88251d7a",
   "metadata": {},
   "outputs": [],
   "source": []
  }
 ],
 "metadata": {
  "kernelspec": {
   "display_name": "Python 3 (ipykernel)",
   "language": "python",
   "name": "python3"
  },
  "language_info": {
   "codemirror_mode": {
    "name": "ipython",
    "version": 3
   },
   "file_extension": ".py",
   "mimetype": "text/x-python",
   "name": "python",
   "nbconvert_exporter": "python",
   "pygments_lexer": "ipython3",
   "version": "3.11.4"
  }
 },
 "nbformat": 4,
 "nbformat_minor": 5
}
