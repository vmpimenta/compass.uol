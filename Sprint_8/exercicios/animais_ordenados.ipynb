{
 "cells": [
  {
   "cell_type": "markdown",
   "id": "71e40c34",
   "metadata": {},
   "source": [
    "Em Python, declare e inicialize uma lista contendo o nome de 20 animais. Ordene-os em ordem crescente e itere sobre os itens, imprimindo um a um (você pode utilizar list comprehension aqui).  Na sequência, armazene o conteúdo da lista em um arquivo de texto, um item em cada linha, no formato CSV."
   ]
  },
  {
   "cell_type": "code",
   "execution_count": 8,
   "id": "509fc7d4",
   "metadata": {},
   "outputs": [
    {
     "name": "stdout",
     "output_type": "stream",
     "text": [
      "Cachorro\n",
      "Cavalo\n",
      "Cobra\n",
      "Coelho\n",
      "Crocodilo\n",
      "Elefante\n",
      "Galinha\n",
      "Gato\n",
      "Girafa\n",
      "Golfinho\n",
      "Leão\n",
      "Macaco\n",
      "Panda\n",
      "Papagaio\n",
      "Pinguim\n",
      "Pombo\n",
      "Rinoceronte\n",
      "Sapo\n",
      "Tigre\n",
      "Urso\n"
     ]
    }
   ],
   "source": [
    "animais = [\"Cachorro\", \"Gato\", \"Elefante\", \"Papagaio\", \"Tigre\", \"Leão\", \"Girafa\", \"Rinoceronte\", \"Cobra\", \"Macaco\", \"Cavalo\", \"Coelho\", \"Urso\", \"Pinguim\", \"Crocodilo\", \"Sapo\", \"Panda\", \"Pombo\", \"Golfinho\", \"Galinha\"]\n",
    "\n",
    "ordenados = sorted(animais)\n",
    "\n",
    "for animal in ordenados: print(animal)\n",
    "    \n",
    "with open('animais.csv', 'w', encoding='utf-8') as file: # no jupyter reclamou do utf-8, por isso coloquei.\n",
    "    for animal in ordenados:\n",
    "        file.write(animal + '\\n')"
   ]
  },
  {
   "cell_type": "code",
   "execution_count": null,
   "id": "141be595",
   "metadata": {},
   "outputs": [],
   "source": []
  },
  {
   "cell_type": "markdown",
   "id": "9aa7bdfa",
   "metadata": {},
   "source": [
    "Exemplo do colega #melhor forma#"
   ]
  },
  {
   "cell_type": "code",
   "execution_count": 14,
   "id": "d9303d4d",
   "metadata": {},
   "outputs": [
    {
     "name": "stdout",
     "output_type": "stream",
     "text": [
      "Cachorro\n",
      "Cavalo\n",
      "Cobra\n",
      "Coelho\n",
      "Crocodilo\n",
      "Elefante\n",
      "Galinha\n",
      "Gato\n",
      "Girafa\n",
      "Golfinho\n",
      "Leão\n",
      "Macaco\n",
      "Panda\n",
      "Papagaio\n",
      "Pinguim\n",
      "Pombo\n",
      "Rinoceronte\n",
      "Sapo\n",
      "Tigre\n",
      "Urso\n"
     ]
    }
   ],
   "source": [
    "import pandas as pd\n",
    "\n",
    "animais = [\"Cachorro\", \"Gato\", \"Elefante\", \"Papagaio\", \"Tigre\", \"Leão\", \"Girafa\", \"Rinoceronte\", \"Cobra\", \"Macaco\", \"Cavalo\", \"Coelho\", \"Urso\", \"Pinguim\", \"Crocodilo\", \"Sapo\", \"Panda\", \"Pombo\", \"Golfinho\", \"Galinha\"]\n",
    "animais.sort()\n",
    "\n",
    "[print(animal) for animal in animais]\n",
    "\n",
    "df = pd.DataFrame(animais, columns=[\"Animais\"])\n",
    "df.to_csv(\"animais2.csv\", index=False)"
   ]
  },
  {
   "cell_type": "code",
   "execution_count": null,
   "id": "0cfd1453",
   "metadata": {},
   "outputs": [],
   "source": []
  }
 ],
 "metadata": {
  "kernelspec": {
   "display_name": "Python 3 (ipykernel)",
   "language": "python",
   "name": "python3"
  },
  "language_info": {
   "codemirror_mode": {
    "name": "ipython",
    "version": 3
   },
   "file_extension": ".py",
   "mimetype": "text/x-python",
   "name": "python",
   "nbconvert_exporter": "python",
   "pygments_lexer": "ipython3",
   "version": "3.11.4"
  }
 },
 "nbformat": 4,
 "nbformat_minor": 5
}
