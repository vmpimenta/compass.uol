{
 "cells": [
  {
   "cell_type": "markdown",
   "id": "8074f9d7",
   "metadata": {},
   "source": [
    "1. Apresente o ator/atriz com maior número de filmes e a respectiva quantidade. A quantidade de filmes encontra-se na coluna Number of Movies do arquivo."
   ]
  },
  {
   "cell_type": "code",
   "execution_count": 2,
   "id": "cde76980",
   "metadata": {},
   "outputs": [],
   "source": [
    "arquivo = open('actors.csv')\n",
    "dados = arquivo.readlines()\n",
    "arquivo.close()\n",
    "arquivo2 = open('etapa-1.txt','w')\n",
    "lista = []\n",
    "for i in (dados[1:]):\n",
    "    lista.append(i.replace(', ', ' ').split(','))\n",
    "    # print(lista)\n",
    "\n",
    "for i in lista:\n",
    "    i[2]=int(i[2])\n",
    "filmes=0\n",
    "ator='este'\n",
    "\n",
    "for i in lista:\n",
    "    if i[2] > filmes:\n",
    "        filmes = i[2]\n",
    "        ator =i[0]\n",
    "\n",
    "print(ator,filmes,file=arquivo2)"
   ]
  },
  {
   "cell_type": "markdown",
   "id": "78625925",
   "metadata": {},
   "source": [
    "2. Apresente a média de receita de bilheteria bruta dos principais filmes, considerando todos os atores. Estamos falando aqui da média da coluna Gross."
   ]
  },
  {
   "cell_type": "code",
   "execution_count": 2,
   "id": "1eb7eeeb",
   "metadata": {},
   "outputs": [],
   "source": [
    "arquivo = open('actors.csv')\n",
    "dados = arquivo.readlines()\n",
    "arquivo.close()\n",
    "arquivo2 = open('etapa-2.txt','w')\n",
    "lista = []\n",
    "for i in (dados[1:]):\n",
    "    lista.append(i.replace(', ', ' ').split(','))\n",
    "\n",
    "for i in lista:\n",
    "    print(i[0], i[3],file=arquivo2)"
   ]
  },
  {
   "cell_type": "markdown",
   "id": "dd1c2820",
   "metadata": {},
   "source": [
    "3. Apresente o ator/atriz com a maior média de receita de bilheteria bruta por filme do conjunto de dados. Considere a coluna Avarage per Movie para fins de cálculo."
   ]
  },
  {
   "cell_type": "code",
   "execution_count": 5,
   "id": "b2c4869e",
   "metadata": {},
   "outputs": [],
   "source": [
    "arquivo = open('actors.csv')\n",
    "dados = arquivo.readlines()\n",
    "arquivo.close()\n",
    "arquivo2 = open('etapa-3.txt','w')\n",
    "lista = []\n",
    "for i in (dados[1:]):\n",
    "    lista.append(i.replace(', ', ' ').split(','))\n",
    "\n",
    "for i in lista:\n",
    "    i[3] = float(i[3])\n",
    "\n",
    "maior_media = 0\n",
    "media_ator = \"este\"\n",
    "for i in lista:\n",
    "    if i[3] > maior_media:\n",
    "        maior_media = (i[3])\n",
    "        media_ator = i[0]\n",
    "print(media_ator,file=arquivo2)"
   ]
  },
  {
   "cell_type": "markdown",
   "id": "59d547ba",
   "metadata": {},
   "source": [
    "4. A coluna #1 Movie contém o filme de maior bilheteria em que o ator atuou. Realize a contagem de aparições destes filmes no dataset, listando-os ordenados pela quantidade de vezes em que estão presentes. Considere a ordem decrescente e, em segundo nível, o nome do  filme."
   ]
  },
  {
   "cell_type": "code",
   "execution_count": 2,
   "id": "5177ffc5",
   "metadata": {},
   "outputs": [],
   "source": [
    "arquivo = open('actors.csv')\n",
    "dados = arquivo.readlines()\n",
    "arquivo.close()\n",
    "arquivo2 = open('etapa-4.txt','w')\n",
    "lista = []\n",
    "for i in (dados[1:]):\n",
    "    lista.append(i.replace(', ', ' ').split(','))\n",
    "\n",
    "filmes = []\n",
    "for linhas in lista:\n",
    "    filmes.append(linhas[4])\n",
    "\n",
    "contagem = []\n",
    "nova = []\n",
    "teste = []\n",
    "filme = {}\n",
    "qtd = []\n",
    "#contar quantas vezes o filme apareceu\n",
    "for i in range(len(lista)):\n",
    "    qtd = filmes.count(filmes[i])\n",
    "    contagem = filmes[i],qtd\n",
    "    nova.append(contagem)\n",
    "    \n",
    "for i in range(len(nova)):\n",
    "    if nova[i] not in teste:\n",
    "        teste.append(nova[i])\n",
    "\n",
    "filme = teste\n",
    "filme.sort(key=lambda x: x[1], reverse=True) #não consegui ordenar sem o \"lambda\"\n",
    "for i in filme:\n",
    "    print(i,file=arquivo2)\n",
    " "
   ]
  },
  {
   "cell_type": "markdown",
   "id": "8fcffbf1",
   "metadata": {},
   "source": [
    "5. Apresente a lista dos atores ordenada pela receita bruta de bilheteria de seus filmes (coluna Total Gross), em ordem decrescente"
   ]
  },
  {
   "cell_type": "code",
   "execution_count": 7,
   "id": "44f7e486",
   "metadata": {},
   "outputs": [],
   "source": [
    "arquivo = open('actors.csv')\n",
    "dados = arquivo.readlines()\n",
    "arquivo.close()\n",
    "arquivo2 = open('etapa-5.txt','w')\n",
    "lista = []\n",
    "for i in (dados[1:]):\n",
    "    lista.append(i.replace(', ', ' ').split(','))\n",
    "\n",
    "for i in lista:\n",
    "    print(i[0],i[1],file=arquivo2)"
   ]
  }
 ],
 "metadata": {
  "kernelspec": {
   "display_name": "Python 3 (ipykernel)",
   "language": "python",
   "name": "python3"
  },
  "language_info": {
   "codemirror_mode": {
    "name": "ipython",
    "version": 3
   },
   "file_extension": ".py",
   "mimetype": "text/x-python",
   "name": "python",
   "nbconvert_exporter": "python",
   "pygments_lexer": "ipython3",
   "version": "3.11.3"
  }
 },
 "nbformat": 4,
 "nbformat_minor": 5
}
